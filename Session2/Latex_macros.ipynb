{
 "cells": [
  {
   "cell_type": "markdown",
   "metadata": {},
   "source": [
    "# Latex macros"
   ]
  },
  {
   "cell_type": "code",
   "execution_count": 1,
   "metadata": {},
   "outputs": [
    {
     "data": {
      "text/latex": [
       "$$\n",
       "\\newcommand{\\x}{\\mathbf{x}}\n",
       "\\newcommand{\\tx}{\\tilde{\\x}}\n",
       "\\newcommand{\\y}{\\mathbf{y}}\n",
       "\\newcommand{\\b}{\\mathbf{b}}\n",
       "\\newcommand{\\c}{\\mathbf{c}}\n",
       "\\newcommand{\\e}{\\mathbf{e}}\n",
       "\\newcommand{\\z}{\\mathbf{z}}\n",
       "\\newcommand{\\h}{\\mathbf{h}}\n",
       "\\newcommand{\\w}{\\mathbf{w}}\n",
       "\\newcommand{\\W}{\\mathbf{W}}\n",
       "\\newcommand{\\X}{\\mathbf{X}}\n",
       "\\newcommand{\\KL}{\\mathbf{KL}}\n",
       "\\newcommand{\\E}{{\\mathbb{E}}}\n",
       "\\newcommand{\\ip}{\\mathbf{{(i)}}}\n",
       "% \\ll indexes a layer; we can change the actual letter\n",
       "\\newcommand{\\ll}{l}\n",
       "\\newcommand{\\llp}{{(\\ll)}}\n",
       "%\n",
       "% \\tt indexes a time step\n",
       "\\newcommand{\\tt}{t}\n",
       "\\newcommand{\\tp}{{(\\tt)}}\n",
       "%\n",
       "\\newcommand{\\loss}{\\mathcal{L}}\n",
       "\\newcommand{\\cost}{\\mathcal{L}}\n",
       "%\n",
       "% Functions with arguments\n",
       "\\def\\xsy#1#2{#1^#2}\n",
       "\\def\\rand#1{\\tilde{#1}}\n",
       "\\def\\randx{\\rand{\\x}}\n",
       "\\def\\randy{\\rand{\\y}}\n",
       "%\n",
       "\\def\\argmax#1{\\underset{#1} {\\operatorname{argmax}} }\n",
       "\\def\\argmin#1{\\underset{#1} {\\operatorname{argmin}} }\n",
       "\\def\\max#1{\\underset{#1} {\\operatorname{max}} }\n",
       "\\def\\min#1{\\underset{#1} {\\operatorname{min}} }\n",
       "%\n",
       "\\def\\pr#1{\\mathcal{p}(#1)}\n",
       "\\def\\cnt#1{\\mathcal{count}_{#1}}\n",
       "\\def\\node#1{\\mathbb{#1}}\n",
       "%\n",
       "\\newcommand{\\floor}[1]{\\left\\lfloor #1 \\right\\rfloor}\n",
       "\\newcommand{\\ceil}[1]{\\left\\lceil #1 \\right\\rceil}\n",
       "$$\n"
      ],
      "text/plain": [
       "<IPython.core.display.Latex object>"
      ]
     },
     "metadata": {},
     "output_type": "display_data"
    }
   ],
   "source": [
    "%%latex\n",
    "$$\n",
    "\\newcommand{\\x}{\\mathbf{x}}\n",
    "\\newcommand{\\tx}{\\tilde{\\x}}\n",
    "\\newcommand{\\y}{\\mathbf{y}}\n",
    "\\newcommand{\\b}{\\mathbf{b}}\n",
    "\\newcommand{\\c}{\\mathbf{c}}\n",
    "\\newcommand{\\e}{\\mathbf{e}}\n",
    "\\newcommand{\\z}{\\mathbf{z}}\n",
    "\\newcommand{\\h}{\\mathbf{h}}\n",
    "\\newcommand{\\w}{\\mathbf{w}}\n",
    "\\newcommand{\\W}{\\mathbf{W}}\n",
    "\\newcommand{\\X}{\\mathbf{X}}\n",
    "\\newcommand{\\KL}{\\mathbf{KL}}\n",
    "\\newcommand{\\E}{{\\mathbb{E}}}\n",
    "\\newcommand{\\ip}{\\mathbf{{(i)}}}\n",
    "% \\ll indexes a layer; we can change the actual letter\n",
    "\\newcommand{\\ll}{l}\n",
    "\\newcommand{\\llp}{{(\\ll)}}\n",
    "%\n",
    "% \\tt indexes a time step\n",
    "\\newcommand{\\tt}{t}\n",
    "\\newcommand{\\tp}{{(\\tt)}}\n",
    "%\n",
    "\\newcommand{\\loss}{\\mathcal{L}}\n",
    "\\newcommand{\\cost}{\\mathcal{L}}\n",
    "%\n",
    "% Functions with arguments\n",
    "\\def\\xsy#1#2{#1^#2}\n",
    "\\def\\rand#1{\\tilde{#1}}\n",
    "\\def\\randx{\\rand{\\x}}\n",
    "\\def\\randy{\\rand{\\y}}\n",
    "%\n",
    "\\def\\argmax#1{\\underset{#1} {\\operatorname{argmax}} }\n",
    "\\def\\argmin#1{\\underset{#1} {\\operatorname{argmin}} }\n",
    "\\def\\max#1{\\underset{#1} {\\operatorname{max}} }\n",
    "\\def\\min#1{\\underset{#1} {\\operatorname{min}} }\n",
    "%\n",
    "\\def\\pr#1{\\mathcal{p}(#1)}\n",
    "\\def\\cnt#1{\\mathcal{count}_{#1}}\n",
    "\\def\\node#1{\\mathbb{#1}}\n",
    "%\n",
    "\\newcommand{\\floor}[1]{\\left\\lfloor #1 \\right\\rfloor}\n",
    "\\newcommand{\\ceil}[1]{\\left\\lceil #1 \\right\\rceil}\n",
    "$$"
   ]
  },
  {
   "cell_type": "markdown",
   "metadata": {},
   "source": [
    "## Store cell 1 as a macro (need to change line number if above cell is not output 1)"
   ]
  },
  {
   "cell_type": "code",
   "execution_count": 2,
   "metadata": {},
   "outputs": [
    {
     "name": "stdout",
     "output_type": "stream",
     "text": [
      "Macro `_latex_std_` created. To execute, type its name (without quotes).\n",
      "=== Macro contents: ===\n",
      "get_ipython().run_cell_magic('latex', '', '$$\\n\\\\newcommand{\\\\x}{\\\\mathbf{x}}\\n\\\\newcommand{\\\\y}{\\\\mathbf{y}}\\n\\\\newcommand{\\\\b}{\\\\mathbf{b}}\\n\\\\newcommand{\\\\c}{\\\\mathbf{c}}\\n\\\\newcommand{\\\\z}{\\\\mathbf{z}}\\n\\\\newcommand{\\\\h}{\\\\mathbf{h}}\\n\\\\newcommand{\\\\w}{\\\\mathbf{w}}\\n\\\\newcommand{\\\\W}{\\\\mathbf{W}}\\n\\\\newcommand{\\\\X}{\\\\mathbf{X}}\\n\\\\newcommand{\\\\KL}{\\\\mathbf{KL}}\\n\\\\newcommand{\\\\E}{{\\\\mathbb{E}}}\\n\\\\newcommand{\\\\ip}{\\\\mathbf{{(i)}}}\\n% \\\\ll indexes a layer; we can change the actual letter\\n\\\\newcommand{\\\\ll}{l}\\n\\\\newcommand{\\\\llp}{(\\\\ll)}\\n%\\n\\\\newcommand{\\\\tp}{\\\\mathbf{{(t)}}}\\n\\\\newcommand{\\\\loss}{\\\\mathcal{L}}\\n\\\\newcommand{\\\\cost}{\\\\mathcal{L}}\\n%\\n% Functions with arguments\\n\\\\def\\\\xsy#1#2{#1^#2}\\n\\\\def\\\\rand#1{\\\\tilde{#1}}\\n\\\\def\\\\randx{\\\\rand{\\\\x}}\\n\\\\def\\\\randy{\\\\rand{\\\\y}}\\n%\\n\\\\def\\\\argmax#1{\\\\underset{#1} {\\\\operatorname{argmax}} }\\n\\\\def\\\\argmin#1{\\\\underset{#1} {\\\\operatorname{argmin}} }\\n%\\n\\\\def\\\\pr#1{\\\\mathcal{p}(#1)}\\n$$\\n')\n",
      " "
     ]
    }
   ],
   "source": [
    "%macro _latex_std_ 1"
   ]
  },
  {
   "cell_type": "code",
   "execution_count": 3,
   "metadata": {},
   "outputs": [],
   "source": [
    "%store -r _latex_std_"
   ]
  }
 ],
 "metadata": {
  "kernelspec": {
   "display_name": "Python 3",
   "language": "python",
   "name": "python3"
  },
  "language_info": {
   "codemirror_mode": {
    "name": "ipython",
    "version": 3
   },
   "file_extension": ".py",
   "mimetype": "text/x-python",
   "name": "python",
   "nbconvert_exporter": "python",
   "pygments_lexer": "ipython3",
   "version": "3.7.1"
  },
  "toc": {
   "base_numbering": 1,
   "nav_menu": {},
   "number_sections": true,
   "sideBar": true,
   "skip_h1_title": false,
   "title_cell": "Table of Contents",
   "title_sidebar": "Contents",
   "toc_cell": false,
   "toc_position": {},
   "toc_section_display": true,
   "toc_window_display": false
  }
 },
 "nbformat": 4,
 "nbformat_minor": 2
}
