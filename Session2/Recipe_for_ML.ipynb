{
 "cells": [
  {
   "cell_type": "code",
   "execution_count": 2,
   "metadata": {
    "slideshow": {
     "slide_type": "notes"
    }
   },
   "outputs": [
    {
     "data": {
      "text/latex": [
       "$$\n",
       "\\newcommand{\\x}{\\mathbf{x}}\n",
       "\\newcommand{\\tx}{\\tilde{\\x}}\n",
       "\\newcommand{\\y}{\\mathbf{y}}\n",
       "\\newcommand{\\b}{\\mathbf{b}}\n",
       "\\newcommand{\\c}{\\mathbf{c}}\n",
       "\\newcommand{\\e}{\\mathbf{e}}\n",
       "\\newcommand{\\z}{\\mathbf{z}}\n",
       "\\newcommand{\\h}{\\mathbf{h}}\n",
       "\\newcommand{\\w}{\\mathbf{w}}\n",
       "\\newcommand{\\W}{\\mathbf{W}}\n",
       "\\newcommand{\\X}{\\mathbf{X}}\n",
       "\\newcommand{\\KL}{\\mathbf{KL}}\n",
       "\\newcommand{\\E}{{\\mathbb{E}}}\n",
       "\\newcommand{\\ip}{\\mathbf{{(i)}}}\n",
       "% \\ll indexes a layer; we can change the actual letter\n",
       "\\newcommand{\\ll}{l}\n",
       "\\newcommand{\\llp}{{(\\ll)}}\n",
       "%\n",
       "% \\tt indexes a time step\n",
       "\\newcommand{\\tt}{t}\n",
       "\\newcommand{\\tp}{{(\\tt)}}\n",
       "%\n",
       "\\newcommand{\\loss}{\\mathcal{L}}\n",
       "\\newcommand{\\cost}{\\mathcal{L}}\n",
       "%\n",
       "% Functions with arguments\n",
       "\\def\\xsy#1#2{#1^#2}\n",
       "\\def\\rand#1{\\tilde{#1}}\n",
       "\\def\\randx{\\rand{\\x}}\n",
       "\\def\\randy{\\rand{\\y}}\n",
       "%\n",
       "\\def\\argmax#1{\\underset{#1} {\\operatorname{argmax}} }\n",
       "\\def\\argmin#1{\\underset{#1} {\\operatorname{argmin}} }\n",
       "\\def\\max#1{\\underset{#1} {\\operatorname{max}} }\n",
       "\\def\\min#1{\\underset{#1} {\\operatorname{min}} }\n",
       "%\n",
       "\\def\\pr#1{\\mathcal{p}(#1)}\n",
       "\\def\\cnt#1{\\mathcal{count}_{#1}}\n",
       "\\def\\node#1{\\mathbb{#1}}\n",
       "%\n",
       "\\newcommand{\\floor}[1]{\\left\\lfloor #1 \\right\\rfloor}\n",
       "\\newcommand{\\ceil}[1]{\\left\\lceil #1 \\right\\rceil}\n",
       "$$\n"
      ],
      "text/plain": [
       "<IPython.core.display.Latex object>"
      ]
     },
     "metadata": {},
     "output_type": "display_data"
    },
    {
     "name": "stdout",
     "output_type": "stream",
     "text": [
      "Macro `_latex_std_` created. To execute, type its name (without quotes).\n",
      "=== Macro contents: ===\n",
      "get_ipython().run_line_magic('run', 'Latex_macros.ipynb ')\n",
      " no stored variable _latex_std_\n"
     ]
    }
   ],
   "source": [
    "%run Latex_macros.ipynb \n"
   ]
  },
  {
   "cell_type": "code",
   "execution_count": 4,
   "metadata": {
    "slideshow": {
     "slide_type": "notes"
    }
   },
   "outputs": [
    {
     "name": "stdout",
     "output_type": "stream",
     "text": [
      "The autoreload extension is already loaded. To reload it, use:\n",
      "  %reload_ext autoreload\n"
     ]
    }
   ],
   "source": [
    "# My standard magic !  You will see this in almost all my notebooks.\n",
    "\n",
    "from IPython.core.interactiveshell import InteractiveShell\n",
    "InteractiveShell.ast_node_interactivity = \"all\"\n",
    "\n",
    "# Reload all modules imported with %aimport\n",
    "%load_ext autoreload\n",
    "%autoreload 1\n",
    "\n",
    "%matplotlib inline"
   ]
  },
  {
   "cell_type": "code",
   "execution_count": 5,
   "metadata": {
    "slideshow": {
     "slide_type": "notes"
    }
   },
   "outputs": [],
   "source": [
    "import numpy as np\n",
    "import pandas as pd\n",
    "import matplotlib.pyplot as plt\n",
    "         \n",
    "    \n",
    "from sklearn import datasets, linear_model\n",
    "from sklearn.metrics import mean_squared_error, r2_score\n",
    "\n",
    "import recipe_helper\n",
    "%aimport recipe_helper\n",
    "rh = recipe_helper.Recipe_Helper()"
   ]
  },
  {
   "cell_type": "markdown",
   "metadata": {
    "slideshow": {
     "slide_type": "slide"
    }
   },
   "source": [
    "# Overview\n",
    "\n",
    "## Goals\n",
    "- Learn the \"Recipe for Machine Learning\"\n",
    "    - a *systematic approach* to problem solving\n",
    "    - a formal way of presenting your ideas\n",
    "- Terminology\n",
    "- Introduction to the sklearn API\n",
    "    "
   ]
  },
  {
   "cell_type": "markdown",
   "metadata": {
    "slideshow": {
     "slide_type": "subslide"
    }
   },
   "source": [
    "## Plan\n",
    "- Will illustrate the recipe using a model familiar to you: Linear Regression\n",
    "    - Supervised learning: Regression \n",
    "        - numerical features, target\n",
    "        - categorical variables: next lecture\n",
    "- Focus is on the *concept*, not the code\n",
    "- Similar to book (Geron, Chapter 2), but not identical.\n",
    "- Let's jump in ! Start *doing* ML\n",
    "- Your first assignment !\n",
    "    - checkpoint: your knowledge of Regression *and* programming tools"
   ]
  },
  {
   "cell_type": "markdown",
   "metadata": {
    "slideshow": {
     "slide_type": "subslide"
    }
   },
   "source": [
    "Since this is our first lecture involving code\n",
    "- I will show a lot more code within this notebook than in subsequent notebooks\n",
    "- In the future, most of this code will be moved to separate modules\n",
    "    - re-usable as a module, rather than copy/paste between notebooks\n",
    "    - notebooks are less cluttered; maintain focus on the problem, not the code\n",
    "- I will digress from the problem in order to solidify  your understanding of the tools: \n",
    "    - Jupyter, Pandas, etc."
   ]
  },
  {
   "cell_type": "markdown",
   "metadata": {},
   "source": [
    "<div class=\"alert alert-block alert-danger\">\n",
    "    <b>Disclaimer:</b> \n",
    "    <br>\n",
    "    The purpose of this lecture is <i>not</i> to make you an expert in sklearn. \n",
    "    <br>\n",
    "    It is to introduce you to concepts that you can apply no matter what toolkit you use in the future.\n",
    "    \n",
    "</div>"
   ]
  },
  {
   "cell_type": "markdown",
   "metadata": {
    "slideshow": {
     "slide_type": "slide"
    }
   },
   "source": [
    "# Recipe for ML\n",
    "\n",
    "How to approach a problem\n",
    "\n",
    "How to present a solution\n",
    "- This is our model for how to write a notebook\n",
    "\n",
    "- Geron: Chapter2 (End to End)\n",
    "- Checklist in Appendix B as a template for problem-solving (and writing notebooks)"
   ]
  },
  {
   "cell_type": "markdown",
   "metadata": {
    "slideshow": {
     "slide_type": "slide"
    }
   },
   "source": [
    "Machine Learning is a **process**, not just a collection of models\n",
    "- multiple steps\n",
    "- iterative\n",
    "- Focus only on Model ? Mistake !\n",
    "    - Exploratory Data Analysis will inform you decisions\n",
    "    - Tranformations often the secret to success"
   ]
  },
  {
   "cell_type": "markdown",
   "metadata": {
    "slideshow": {
     "slide_type": "slide"
    }
   },
   "source": [
    "<center><b>Process</b>\n",
    "<img src=ML_process.jpg>\n",
    "</center>"
   ]
  },
  {
   "cell_type": "markdown",
   "metadata": {
    "slideshow": {
     "slide_type": "subslide"
    }
   },
   "source": [
    "We will illustrate this with a toy example, and introduce our first model(Regression) at the same time.\n",
    "\n",
    "This will be very high level.\n",
    "\n",
    "We will make a second pass over the topics we gloss over on the first pass."
   ]
  },
  {
   "cell_type": "markdown",
   "metadata": {
    "slideshow": {
     "slide_type": "slide"
    }
   },
   "source": [
    "## Frame the problem\n",
    "- What problem are we trying to solve ?\n",
    "- Why is it important ?\n",
    "- Define terms\n"
   ]
  },
  {
   "cell_type": "markdown",
   "metadata": {
    "slideshow": {
     "slide_type": "slide"
    }
   },
   "source": [
    "### Our problem\n",
    "\n",
    "We are in the real-estate business.\n",
    "The general belief is that larger houses command premium prices.\n",
    "To test this, we gathered a history of home sales with associated house size and price.\n",
    "(We normalize both the size and price so that 0 means average)\n",
    "\n",
    "A seller asks us to appraise her house.  Our problem is to predict a price premium for her home, given it's size.\n",
    "\n",
    "\n",
    "Our observations are (size, price) pairs.  The \"target\" we seek to predict is price.\n"
   ]
  },
  {
   "cell_type": "markdown",
   "metadata": {
    "slideshow": {
     "slide_type": "slide"
    }
   },
   "source": [
    "#### Notation\n",
    "- a training example is a pair $(\\x^\\ip,\\y^\\ip)$ consisting of \n",
    "    - a feature vector $\\x^\\ip$ of length $n$\n",
    "    - the associated label (target) $\\y^\\ip$\n",
    "- We are given $m$ training examples\n",
    "    - Use superscript $\\ip$ to index elements of a collection\n",
    "        - $i^{th}$ example in $\\X$: features $\\x^\\ip$ and target (label) $\\y^\\ip$\n",
    "    - $\\X$ is of dimension $m \\times n$\n",
    "    - $\\y$ is dimension $m \\times 1$, i.e., target is a single, continous value per example\n",
    "    - Use hat to denote prediction: $\\hat{\\y}^\\ip$\n",
    "  "
   ]
  },
  {
   "cell_type": "markdown",
   "metadata": {
    "slideshow": {
     "slide_type": "slide"
    }
   },
   "source": [
    "### Select a performance measure\n",
    "- How do we decide that we have \"solved\" the problem ?\n",
    "- Define a measure of how good our current solution is\n",
    "    - success defined \"out of sample\", i.e., on unseen data **not** on the training set\n",
    "        - can compute this \"in sample\" on the training set as well, but the metric of success is on the test set\n",
    "- Our ML recipe will iteratively seek to improve this measure"
   ]
  },
  {
   "cell_type": "markdown",
   "metadata": {
    "slideshow": {
     "slide_type": "slide"
    }
   },
   "source": [
    "#### Root Mean Square Error: an absolute performance metric\n",
    "\n",
    "Our problem is to predict continous values, so it falls into the Regression topic.\n",
    "\n",
    "- A common performance measure for Regression is the Root Mean Square Error (RMSE):\n",
    "\n",
    "$$\\textrm{RMSE}(\\hat{\\y}, \\y) = \\sqrt{ { 1\\over{m}} \\times \\sum_{i=1}^m { ( \\y^\\ip - \\hat{\\y}^\\ip)^2} }$$\n",
    "\n",
    "Our goal is to minimize the RMSE by making each prediction $\\hat{y}^\\ip$ close to the true value $y^\\ip$.\n",
    "\n",
    "n.b., we will sometimes ignore the square root\n",
    "$$\\textrm{MSE}(\\hat{\\y}, \\y) = \\text{RMSE}(\\hat{\\y}, \\y)^2$$"
   ]
  },
  {
   "cell_type": "markdown",
   "metadata": {
    "slideshow": {
     "slide_type": "subslide"
    }
   },
   "source": [
    "#### Digression: $R^2$, A relative performance metric\n",
    "\n",
    "Whereas RMSE is absolute error (in same units as $y$), $R^2$ is a relative error (in units of percent).\n",
    "\n",
    "$$ \n",
    "\\begin{array}{ll}\n",
    "R^2 & = & 1 - \\left( \\frac{\\sum_{i=1}^m { (y_i - \\hat{y}_i)^2} }{ \\sum_{i=1}^m { (y_i -  \\bar{y}_i)^2} }   \\right) \\\\\n",
    "& = & 1 - \\left(  \\frac{m \\cdot \\textrm{RMSE}(\\hat{y}, y)^2} { \\sum_{i=1}^m { (y_i -  \\bar{y}_i)^2}} \\right)\n",
    "\\end{array}\n",
    "$$\n",
    "\n",
    "**Interpretation**: Performance compared to a naive baseline estimator (predict mean $\\bar{y}$)"
   ]
  },
  {
   "cell_type": "markdown",
   "metadata": {
    "slideshow": {
     "slide_type": "slide"
    }
   },
   "source": [
    "## Get the data and have a first look\n",
    "\n",
    "- The dirty secret of ML: Getting the data (and cleaning it) is 70-80% of the effort !\n",
    "    - Data usually doesn't come in a neatly wrapped package\n",
    "        - Multiple data sources\n",
    "        - Multiple tables that need to be joined\n",
    "            - Pandas is great for data wrangling !\n",
    "            - Separate module (later) on data munging\n",
    "        - Once you have the data it may need to be:\n",
    "            - cleaned: deal with missing values and outliers\n",
    "            - normalized, transformed, feature selection/creation\n",
    "    - This week's assignment will force you to confront data\n",
    "            "
   ]
  },
  {
   "cell_type": "markdown",
   "metadata": {
    "slideshow": {
     "slide_type": "subslide"
    }
   },
   "source": [
    "In this toy example I will give you a simple function that gives you the data in near-final form.\n",
    " - Don't expect this to happen too often !\n",
    " - We will revisit this topic in depth"
   ]
  },
  {
   "cell_type": "code",
   "execution_count": 9,
   "metadata": {
    "slideshow": {
     "slide_type": "subslide"
    }
   },
   "outputs": [
    {
     "data": {
      "text/plain": [
       "(50, 1)"
      ]
     },
     "execution_count": 9,
     "metadata": {},
     "output_type": "execute_result"
    }
   ],
   "source": [
    "# I will give you the data via a function (so I can easily alter the data in subsequent examples)\n",
    "v1, a1 = 1, .005\n",
    "X, y = rh.gen_data(num=50, v=v1, a=a1)"
   ]
  },
  {
   "cell_type": "markdown",
   "metadata": {
    "slideshow": {
     "slide_type": "slide"
    }
   },
   "source": [
    "\n",
    "<div class=\"alert alert-block alert-success\">\n",
    "<b>TIP</b>\n",
    "\n",
    "\n",
    "- Copy-and-paste in notebooks is discouraged: it is error-prone (hard to be consistent once you make a change) and not very re-usable.\n",
    "\n",
    "- Invest the time into creating routines.  Even better: create Python Classes, with flexible, reusable methods.\n",
    " </div>"
   ]
  },
  {
   "cell_type": "markdown",
   "metadata": {
    "slideshow": {
     "slide_type": "slide"
    }
   },
   "source": [
    "<div class=\"alert alert-block alert-success\">\n",
    "    <b>Tip</b>\n",
    "    <ul>\n",
    "    <li>You will probably come to regret calling variables with generic names like  X, y.\n",
    "    <li>You often find yourself modifying these values.  If you try to re-run a previous self after having modified X and y, you will get <b>different</b> results which you will find confusing.\n",
    "    </ul>\n",
    "    \n",
    "</div>  "
   ]
  },
  {
   "cell_type": "code",
   "execution_count": 8,
   "metadata": {
    "slideshow": {
     "slide_type": "subslide"
    }
   },
   "outputs": [],
   "source": [
    "# Practical advice:\n",
    "X_lin, y_lin = X, y"
   ]
  },
  {
   "cell_type": "markdown",
   "metadata": {
    "slideshow": {
     "slide_type": "slide"
    }
   },
   "source": [
    "### Aside: Illustrate Jupyter ? and ??\n",
    "\n",
    "Notice that I'm generating the data via a method `gen_data` in a module ?\n",
    "\n",
    "- What does `gen_data` do ? Try: `rh.gen_data?`\n",
    "- What is the *code* for `gen_data`? Try: `rh.gen_data??`"
   ]
  },
  {
   "cell_type": "code",
   "execution_count": 5,
   "metadata": {
    "slideshow": {
     "slide_type": "subslide"
    }
   },
   "outputs": [],
   "source": [
    "# Uncomment the below line to see the \"help\" and \"code\" for the gen_data method\n",
    "rh.gen_data??\n",
    "#rh.split??"
   ]
  },
  {
   "cell_type": "markdown",
   "metadata": {
    "slideshow": {
     "slide_type": "slide"
    }
   },
   "source": [
    "### Here's what the data looks like (life is so much easier with Pandas !)"
   ]
  },
  {
   "cell_type": "code",
   "execution_count": 9,
   "metadata": {
    "slideshow": {
     "slide_type": "subslide"
    }
   },
   "outputs": [
    {
     "data": {
      "text/html": [
       "<div>\n",
       "<style scoped>\n",
       "    .dataframe tbody tr th:only-of-type {\n",
       "        vertical-align: middle;\n",
       "    }\n",
       "\n",
       "    .dataframe tbody tr th {\n",
       "        vertical-align: top;\n",
       "    }\n",
       "\n",
       "    .dataframe thead th {\n",
       "        text-align: right;\n",
       "    }\n",
       "</style>\n",
       "<table border=\"1\" class=\"dataframe\">\n",
       "  <thead>\n",
       "    <tr style=\"text-align: right;\">\n",
       "      <th></th>\n",
       "      <th>X</th>\n",
       "      <th>y</th>\n",
       "    </tr>\n",
       "  </thead>\n",
       "  <tbody>\n",
       "    <tr>\n",
       "      <th>0</th>\n",
       "      <td>24.835708</td>\n",
       "      <td>26.377739</td>\n",
       "    </tr>\n",
       "    <tr>\n",
       "      <th>1</th>\n",
       "      <td>-6.913215</td>\n",
       "      <td>-6.793734</td>\n",
       "    </tr>\n",
       "    <tr>\n",
       "      <th>2</th>\n",
       "      <td>32.384427</td>\n",
       "      <td>35.006305</td>\n",
       "    </tr>\n",
       "    <tr>\n",
       "      <th>3</th>\n",
       "      <td>76.151493</td>\n",
       "      <td>90.649117</td>\n",
       "    </tr>\n",
       "    <tr>\n",
       "      <th>4</th>\n",
       "      <td>-11.707669</td>\n",
       "      <td>-11.364995</td>\n",
       "    </tr>\n",
       "  </tbody>\n",
       "</table>\n",
       "</div>"
      ],
      "text/plain": [
       "           X          y\n",
       "0  24.835708  26.377739\n",
       "1  -6.913215  -6.793734\n",
       "2  32.384427  35.006305\n",
       "3  76.151493  90.649117\n",
       "4 -11.707669 -11.364995"
      ]
     },
     "execution_count": 9,
     "metadata": {},
     "output_type": "execute_result"
    },
    {
     "name": "stdout",
     "output_type": "stream",
     "text": [
      "<class 'pandas.core.frame.DataFrame'>\n",
      "RangeIndex: 50 entries, 0 to 49\n",
      "Data columns (total 2 columns):\n",
      "X    50 non-null float64\n",
      "y    50 non-null float64\n",
      "dtypes: float64(2)\n",
      "memory usage: 880.0 bytes\n"
     ]
    },
    {
     "data": {
      "text/html": [
       "<div>\n",
       "<style scoped>\n",
       "    .dataframe tbody tr th:only-of-type {\n",
       "        vertical-align: middle;\n",
       "    }\n",
       "\n",
       "    .dataframe tbody tr th {\n",
       "        vertical-align: top;\n",
       "    }\n",
       "\n",
       "    .dataframe thead th {\n",
       "        text-align: right;\n",
       "    }\n",
       "</style>\n",
       "<table border=\"1\" class=\"dataframe\">\n",
       "  <thead>\n",
       "    <tr style=\"text-align: right;\">\n",
       "      <th></th>\n",
       "      <th>X</th>\n",
       "      <th>y</th>\n",
       "    </tr>\n",
       "  </thead>\n",
       "  <tbody>\n",
       "    <tr>\n",
       "      <th>count</th>\n",
       "      <td>50.000000</td>\n",
       "      <td>50.000000</td>\n",
       "    </tr>\n",
       "    <tr>\n",
       "      <th>mean</th>\n",
       "      <td>-11.273695</td>\n",
       "      <td>-5.616563</td>\n",
       "    </tr>\n",
       "    <tr>\n",
       "      <th>std</th>\n",
       "      <td>46.683439</td>\n",
       "      <td>45.278755</td>\n",
       "    </tr>\n",
       "    <tr>\n",
       "      <th>min</th>\n",
       "      <td>-97.983506</td>\n",
       "      <td>-73.981587</td>\n",
       "    </tr>\n",
       "    <tr>\n",
       "      <th>25%</th>\n",
       "      <td>-43.048955</td>\n",
       "      <td>-38.374426</td>\n",
       "    </tr>\n",
       "    <tr>\n",
       "      <th>50%</th>\n",
       "      <td>-11.707258</td>\n",
       "      <td>-11.364609</td>\n",
       "    </tr>\n",
       "    <tr>\n",
       "      <th>75%</th>\n",
       "      <td>16.813778</td>\n",
       "      <td>17.521546</td>\n",
       "    </tr>\n",
       "    <tr>\n",
       "      <th>max</th>\n",
       "      <td>92.613909</td>\n",
       "      <td>114.057250</td>\n",
       "    </tr>\n",
       "  </tbody>\n",
       "</table>\n",
       "</div>"
      ],
      "text/plain": [
       "               X           y\n",
       "count  50.000000   50.000000\n",
       "mean  -11.273695   -5.616563\n",
       "std    46.683439   45.278755\n",
       "min   -97.983506  -73.981587\n",
       "25%   -43.048955  -38.374426\n",
       "50%   -11.707258  -11.364609\n",
       "75%    16.813778   17.521546\n",
       "max    92.613909  114.057250"
      ]
     },
     "execution_count": 9,
     "metadata": {},
     "output_type": "execute_result"
    }
   ],
   "source": [
    "import pandas as pd\n",
    "df = pd.DataFrame( { \"X\": X_lin.ravel(), \"y\":y_lin.ravel()})\n",
    "df.head()\n",
    "\n",
    "df.info()\n",
    "df.describe()"
   ]
  },
  {
   "cell_type": "markdown",
   "metadata": {
    "slideshow": {
     "slide_type": "slide"
    }
   },
   "source": [
    "#### But if we don't have Pandas, Numpy to the rescue:"
   ]
  },
  {
   "cell_type": "code",
   "execution_count": 8,
   "metadata": {
    "slideshow": {
     "slide_type": "subslide"
    }
   },
   "outputs": [
    {
     "name": "stdout",
     "output_type": "stream",
     "text": [
      "y:\n",
      " size=50\n",
      " mean=-5.616563210748966\n",
      " std=44.823680417643054\n",
      " min=-73.98158747882019\n",
      " max=114.05724968049518\n",
      "\n"
     ]
    }
   ],
   "source": [
    "print(\"y:\\n size={}\\n mean={}\\n std={}\\n min={}\\n max={}\\n\".format( \n",
    "      y_lin.size,  y_lin.mean(), y_lin.std(), y_lin.min(), y_lin.max()\n",
    "                                                                  )\n",
    "     )"
   ]
  },
  {
   "cell_type": "code",
   "execution_count": 9,
   "metadata": {
    "slideshow": {
     "slide_type": "subslide"
    }
   },
   "outputs": [
    {
     "name": "stdout",
     "output_type": "stream",
     "text": [
      "y.std() = 44.82, df[\"Y\"].std() = 45.28\n",
      "0.0\n"
     ]
    }
   ],
   "source": [
    "# For the sharp-eyed: note the difference between y.std() and df[\"Y\"].std()\n",
    "# We prove below that this is because they are using different denominators (population vs sample) in the std. deviation calculation\n",
    "print(\"y.std() = {ys:3.2f}, df[\\\"Y\\\"].std() = {Ys:3.2f}\".format(ys=y.std(), Ys=df[\"y\"].std()) )\n",
    "      \n",
    "print (  (y_lin.size *y_lin.std()**2) -  ( (y_lin.size-1) * df[\"y\"].std()**2 )   )"
   ]
  },
  {
   "cell_type": "markdown",
   "metadata": {
    "slideshow": {
     "slide_type": "slide"
    }
   },
   "source": [
    "### Create a test set and put it aside !\n",
    "- Our ultimate goal is to predict well, out of sample\n",
    "- This is called *generalization*\n",
    "- Our success on the test set is our final measure\n",
    "- We will revisit this later\n",
    "    - Bottom line: you may look at the test set *only once*, at the end"
   ]
  },
  {
   "cell_type": "markdown",
   "metadata": {
    "slideshow": {
     "slide_type": "subslide"
    }
   },
   "source": [
    "The reason to put the test set aside is that we want a completely fair evaluation of out of sample performance.\n",
    "\n",
    "Peaking at the test set might give you some clues on building the model, which would bias the evaluation.\n",
    "\n",
    "It's like seeing an exam before test-time: if you know the questions in advance you don't need to prepare for anything not on the exam.\n",
    "\n",
    "This will give you a high score on the exam, but you won't prepare you broadly (i.e., you will fail to generalize)."
   ]
  },
  {
   "cell_type": "markdown",
   "metadata": {
    "slideshow": {
     "slide_type": "subslide"
    }
   },
   "source": [
    "Even peaking at the test set might bias you unconciously.\n",
    "\n",
    "It is very easy to accidentally incorporate information from the test set into training.\n",
    "\n",
    "Just don't do it !"
   ]
  },
  {
   "cell_type": "markdown",
   "metadata": {
    "slideshow": {
     "slide_type": "slide"
    }
   },
   "source": [
    "<div class=\"alert alert-block alert-danger\">\n",
    "    <b>Cheating alert:</b> \n",
    "    <ul>\n",
    "    <li>You should use the test set <b>only once</b>, at the end of the process.\n",
    "    <li>For pedagogical purposes only: we will look at the test set many times in the beginning of this lecture.\n",
    "    <li>By the end of the lecture, you will learn to use something else (the validation set) in its place for the purpose of training.\n",
    "    <li>In general, using the test set more than once, at the end of the process, is something to avoid\n",
    "    </ul>   \n",
    "</div>"
   ]
  },
  {
   "cell_type": "code",
   "execution_count": 10,
   "metadata": {
    "slideshow": {
     "slide_type": "slide"
    }
   },
   "outputs": [
    {
     "data": {
      "text/plain": [
       "((40, 1), (10, 1))"
      ]
     },
     "execution_count": 10,
     "metadata": {},
     "output_type": "execute_result"
    },
    {
     "data": {
      "text/plain": [
       "((40, 1), (10, 1))"
      ]
     },
     "execution_count": 10,
     "metadata": {},
     "output_type": "execute_result"
    }
   ],
   "source": [
    "X_train, X_test, y_train, y_test = rh.split(X_lin,y_lin)\n",
    "\n",
    "X_train.shape, X_test.shape\n",
    "y_train.shape, y_test.shape"
   ]
  },
  {
   "cell_type": "code",
   "execution_count": 11,
   "metadata": {
    "slideshow": {
     "slide_type": "subslide"
    }
   },
   "outputs": [
    {
     "data": {
      "text/plain": [
       "numpy.ndarray"
      ]
     },
     "execution_count": 11,
     "metadata": {},
     "output_type": "execute_result"
    },
    {
     "data": {
      "text/plain": [
       "numpy.ndarray"
      ]
     },
     "execution_count": 11,
     "metadata": {},
     "output_type": "execute_result"
    }
   ],
   "source": [
    "type(X_lin)\n",
    "type(X_train)"
   ]
  },
  {
   "cell_type": "markdown",
   "metadata": {
    "slideshow": {
     "slide_type": "slide"
    }
   },
   "source": [
    "## Discover and Visualize Data to gain insights\n",
    "\n",
    "- Our goal is to come up with a Hypothesis (Model) that explains the relation between features($\\x$) and targets ($\\y$)\n",
    "- We explore our data to search for features that may aid in predicting the target\n",
    "- This may suggest an initial Hypothesis\n",
    "\n",
    "We do this on the **training** data only ! No peeking at the test data !"
   ]
  },
  {
   "cell_type": "code",
   "execution_count": 12,
   "metadata": {
    "scrolled": true,
    "slideshow": {
     "slide_type": "slide"
    }
   },
   "outputs": [
    {
     "data": {
      "image/png": "[encoded data removed]",
      "text/plain": [
       "<Figure size 432x288 with 1 Axes>"
      ]
     },
     "metadata": {
      "needs_background": "light"
     },
     "output_type": "display_data"
    }
   ],
   "source": [
    "(xlabel, ylabel) = (\"Size\", \"Price Premium\")\n",
    "rh.gen_plot(X_lin, y_lin, xlabel, ylabel)"
   ]
  },
  {
   "cell_type": "markdown",
   "metadata": {
    "slideshow": {
     "slide_type": "slide"
    }
   },
   "source": [
    "### Nothing better than visualizing !"
   ]
  },
  {
   "cell_type": "code",
   "execution_count": 13,
   "metadata": {
    "slideshow": {
     "slide_type": "subslide"
    }
   },
   "outputs": [
    {
     "data": {
      "image/png": "[encoded data removed]",
      "text/plain": [
       "<Figure size 432x288 with 1 Axes>"
      ]
     },
     "metadata": {
      "needs_background": "light"
     },
     "output_type": "display_data"
    }
   ],
   "source": [
    "_= df[\"X\"].hist()  # See why Pandas is so convenient ?\n",
    "\n",
    "# BTW, what's with this \"_ = ...\" business ?"
   ]
  },
  {
   "cell_type": "code",
   "execution_count": 14,
   "metadata": {
    "scrolled": true,
    "slideshow": {
     "slide_type": "subslide"
    }
   },
   "outputs": [
    {
     "data": {
      "image/png": "[encoded data removed]",
      "text/plain": [
       "<Figure size 432x288 with 1 Axes>"
      ]
     },
     "metadata": {
      "needs_background": "light"
     },
     "output_type": "display_data"
    }
   ],
   "source": [
    "_= df[\"y\"].hist()"
   ]
  },
  {
   "cell_type": "markdown",
   "metadata": {
    "slideshow": {
     "slide_type": "slide"
    }
   },
   "source": [
    "#### But if we don't have Pandas, can use Matplotlib"
   ]
  },
  {
   "cell_type": "code",
   "execution_count": 15,
   "metadata": {
    "slideshow": {
     "slide_type": "subslide"
    }
   },
   "outputs": [
    {
     "data": {
      "image/png": "[encoded data removed]",
      "text/plain": [
       "<Figure size 432x288 with 2 Axes>"
      ]
     },
     "metadata": {
      "needs_background": "light"
     },
     "output_type": "display_data"
    }
   ],
   "source": [
    "# Use the Object-Oriented interface to Matplotlib, NOT the MATLAB interface\n",
    "# Create a figure\n",
    "fig = plt.figure()\n",
    "\n",
    "# Create a histogram for X.  The figure will be 1 row by 2 columns and the plot for X will be in column 1\n",
    "ax = fig.add_subplot(121)\n",
    "_ = ax.hist(X)\n",
    "_ = ax.set_xlabel(\"X\"); _ = ax.set_ylabel(\"Count\")\n",
    "\n",
    "# Create a histogram for Y.  The figure will be 1 row by 2 columns and the plot for X will be in column 2\n",
    "ax = fig.add_subplot(122)\n",
    "_ = ax.hist(y_lin)\n",
    "_ = ax.set_xlabel(\"y\"); _ = ax.set_ylabel(\"Count\")\n"
   ]
  },
  {
   "cell_type": "code",
   "execution_count": 16,
   "metadata": {
    "scrolled": false,
    "slideshow": {
     "slide_type": "slide"
    }
   },
   "outputs": [
    {
     "data": {
      "image/png": "[encoded data removed]",
      "text/plain": [
       "<Figure size 432x288 with 1 Axes>"
      ]
     },
     "metadata": {
      "needs_background": "light"
     },
     "output_type": "display_data"
    }
   ],
   "source": [
    "# Plot the target vs one feature\n",
    "fig = plt.figure()\n",
    "ax  = fig.add_subplot(1,1,1)\n",
    "\n",
    "_ = ax.scatter(X_train, y_train,  color='black')\n",
    "_ = ax.set_xlabel(xlabel)\n",
    "_ = ax.set_ylabel(ylabel)"
   ]
  },
  {
   "cell_type": "markdown",
   "metadata": {
    "slideshow": {
     "slide_type": "subslide"
    }
   },
   "source": [
    "Relationship between Size and Price could be linear.\n",
    "\n",
    "That will be our initial hypothesis"
   ]
  },
  {
   "cell_type": "markdown",
   "metadata": {
    "slideshow": {
     "slide_type": "slide"
    }
   },
   "source": [
    "## Prepare the data\n",
    "- Your exploration of the data may have revealed issues that need to be addressed before modeling\n",
    "    - Dirty data\n",
    "    - There may be features at vastly different scales; may need to re-scale\n",
    "    - Need to select or eliminate features\n",
    "    - Need to create synthetic features\n",
    "        - How to handle Categorical features ?\n",
    "        - How to handle non-numeric features, e.g., Text\n",
    "\n",
    "In the Toy example, everything is clean and perfect, so nothing to do just yet.\n",
    "\n",
    "We will revisit this in the module on Data Transformations."
   ]
  },
  {
   "cell_type": "markdown",
   "metadata": {
    "slideshow": {
     "slide_type": "subslide"
    }
   },
   "source": [
    "### Data Cleaning\n",
    "\n",
    "Discussed in Geron; we will address this in the module on Data Transformation."
   ]
  },
  {
   "cell_type": "markdown",
   "metadata": {
    "slideshow": {
     "slide_type": "subslide"
    }
   },
   "source": [
    "### Feature scaling\n",
    "Discussed in Geron; we will address this in the module on Data Transformation."
   ]
  },
  {
   "cell_type": "markdown",
   "metadata": {
    "slideshow": {
     "slide_type": "subslide"
    }
   },
   "source": [
    "### Data Transformations\n",
    "Discussed in Geron; we will address this in the module on Data Transformation."
   ]
  },
  {
   "cell_type": "markdown",
   "metadata": {
    "slideshow": {
     "slide_type": "slide"
    }
   },
   "source": [
    "## Select and Train a model"
   ]
  },
  {
   "cell_type": "markdown",
   "metadata": {
    "slideshow": {
     "slide_type": "slide"
    }
   },
   "source": [
    " We form an hypothesis that relates features to targets.  \n",
    " Our visualization of the data suggests that a reasonable first hypothesis is a linear relation.\n",
    " \n",
    " The **model** is a tool that implements our hypothesis.\n",
    " Various terms are used:\n",
    " - hypothesis\n",
    " - estimator\n",
    " - prediction function\n",
    "\n",
    "\n",
    "        "
   ]
  },
  {
   "cell_type": "markdown",
   "metadata": {
    "slideshow": {
     "slide_type": "subslide"
    }
   },
   "source": [
    "An **hypothesis (predictor, estimator)** is a mapping from feature to target\n",
    "- $\\hat{\\y} = h_\\Theta (\\x)$\n",
    "    - $\\hat{\\y}$ is the **predicted value**, conditional on given feature vector $\\x$\n",
    "    - $\\Theta$ is a  column vector of parameters of our model\n",
    "    "
   ]
  },
  {
   "cell_type": "markdown",
   "metadata": {
    "slideshow": {
     "slide_type": "slide"
    }
   },
   "source": [
    "## Linear model and matrix notation\n",
    "\n",
    "Our visualization has led us to form a Linear Hypothesis.\n",
    "\n",
    "$$h_\\Theta(\\x) = \\Theta_0 + \\Theta_1  \\x$$\n",
    "\n",
    "In our toy example there is only a single feature so $n = ||\\x || = 1$\n",
    "but the general form of the linear hypothesis would be\n",
    "\n",
    "$$\n",
    "h_\\Theta(\\x) = \\Theta_0 + \\sum_{i=1}^n \\Theta_i  \\x_i\n",
    "$$\n",
    "\n",
    "where both $\\x$ and $\\Theta$ are vectors of length $n$."
   ]
  },
  {
   "cell_type": "markdown",
   "metadata": {
    "slideshow": {
     "slide_type": "slide"
    }
   },
   "source": [
    "Rather than writing the intercept $\\Theta_0$ as a separate term we modify $\\x$ and $\\Theta$\n",
    "\n",
    "$$\n",
    "\\begin{array}[lll]\\\\\n",
    "\\Theta^T & = & (\\theta_0, \\theta_1, \\ldots, \\theta_n) \\\\\n",
    "\\x'^T     & = & (1, \\x_1, \\ldots, \\x_n) \\\\\n",
    "\\end{array}\n",
    "$$\n",
    "\n",
    "so that our linear hypothesis can be re-written as\n",
    "\n",
    "$$\n",
    "h_\\Theta(\\x') = \\hat{\\y} =  \\Theta^T \\cdot \\x'\n",
    "$$"
   ]
  },
  {
   "cell_type": "markdown",
   "metadata": {
    "slideshow": {
     "slide_type": "slide"
    }
   },
   "source": [
    "Anyone recognize this expression: $\\Theta^T \\cdot \\x$ ?\n",
    "\n",
    "It's our friend the dot product, as promised in the introductory lecture.\n",
    "\n",
    "Watch out, this will be a regularly recurring character in our series.\n",
    "    "
   ]
  },
  {
   "cell_type": "markdown",
   "metadata": {
    "slideshow": {
     "slide_type": "subslide"
    }
   },
   "source": [
    "This means that $\\X$, our matrix of all training examples becomes\n",
    "\n",
    "$\n",
    "\\X' =\n",
    "\\begin{pmatrix}\n",
    "  1  &\\x^{(1)}_1  & \\ldots &\\x^{(1)}_n \\\\ \n",
    "   1 &\\x^{(2)}_1  &\\ldots  &\\x^{(2)}_n \\\\ \n",
    "   \\vdots & \\vdots & \\ldots &  \\vdots \\\\\n",
    "   1 &\\x^{(m)}_1  &\\ldots  &\\x^{(m)}_n \\\\\n",
    "  \\end{pmatrix}\n",
    "$\n"
   ]
  },
  {
   "cell_type": "markdown",
   "metadata": {
    "slideshow": {
     "slide_type": "subslide"
    }
   },
   "source": [
    "So we could simultaneously obtain our prediction for *all* training examples by the matrix product\n",
    "\n",
    "$$\n",
    "\\hat{\\y} = \\X' \\Theta\n",
    "$$\n",
    "\n",
    "Using matrix notation \n",
    "- mimics an implementation using a language(such as `numPy`) with matrix arithmetic\n",
    "- allows us to evaluate examples in parallel"
   ]
  },
  {
   "cell_type": "markdown",
   "metadata": {
    "slideshow": {
     "slide_type": "slide"
    }
   },
   "source": [
    "Recall our goal is to make the discrepancy (error) between $\\y$ and $\\hat{\\y}$ \"small\".\n",
    "\n",
    "Given the training set $\\X, \\y$, we can create a vector $\\mathbf{\\epsilon}$ of errors, one per example\n",
    "$$\n",
    "\\mathbf{\\epsilon} = \\y - \\hat{\\y}\n",
    "$$\n",
    "\n",
    "and write our problem as a system of equations (one per example, sharing parameters $\\Theta$)\n",
    "$$\n",
    "\\begin{array}[lll]\\\\\n",
    "\\y = \\X' \\Theta + \\mathbf{\\epsilon}\n",
    "\\end{array}\n",
    "$$\n",
    "that we need to \"solve\" for $\\Theta$."
   ]
  },
  {
   "cell_type": "markdown",
   "metadata": {
    "slideshow": {
     "slide_type": "slide"
    }
   },
   "source": [
    "The above equation defines Linear Regression.\n",
    "\n",
    "It is \"linear\" because each $\\y^\\ip$ is linear in $\\x^\\ip$ and $\\Theta$.\n",
    "\n",
    "The \"solution\" to the set of equations is the $\\Theta$ that minimizes the sum of squared errors\n",
    "$$\n",
    "\\begin{array}[lll]\\\\\n",
    "\\sum_{i=1}^m { (\\y^\\ip - \\hat{\\y}^\\ip)^2 } \\\\\n",
    "\\end{array}\n",
    "$$"
   ]
  },
  {
   "cell_type": "markdown",
   "metadata": {
    "slideshow": {
     "slide_type": "subslide"
    }
   },
   "source": [
    "So we can frame an algorithm to solve Linear Regression as an optimization problem that\n",
    "minimizes a loss function\n",
    "\n",
    "$$\n",
    "\\begin{array}[lll]\\\\\n",
    "\\loss^\\ip_\\Theta & =  & (\\y^\\ip - \\hat{\\y}^\\ip )^2  & \\text{ loss per example}\\\\\n",
    "\\\\\n",
    "\\loss_\\Theta  & = & { 1\\over{m} } \\sum_{i=1}^m \\loss^\\ip_\\Theta & \\text{ average loss} \\\\\n",
    "& = & \\text{RMSE}(\\hat{\\y}, \\y)^2 \\\\\n",
    "& = & \\textrm{MSE}(\\hat{\\y}, \\y)\n",
    "\\end{array}\n",
    "$$\n"
   ]
  },
  {
   "cell_type": "markdown",
   "metadata": {
    "slideshow": {
     "slide_type": "slide"
    }
   },
   "source": [
    "Notice that the Cost function (optimization objective, evaluated over the training set)\n",
    "mirrors our Performance Measure (evaluted over the *test* set).\n",
    "\n",
    "Hopefully, any $\\Theta$ which does a good job on the training set also does a good job on the test set.\n",
    "\n",
    "The critical assumptions are\n",
    "- that the training and test sets are samples from the same underlying distribution\n",
    "- $m$ is sufficiently large so that a $\\Theta$ estimated over the training set generalizes to unseen data\n",
    "\n",
    "For now, the Cost function and the Performance Measure happen to be identical in form\n",
    "    - *but* one is evaluted over the training set; the other over the test set.\n"
   ]
  },
  {
   "cell_type": "markdown",
   "metadata": {
    "slideshow": {
     "slide_type": "slide"
    }
   },
   "source": [
    "### Model fitting: an optimization problems\n",
    "\n",
    "`sklearn` has an *estimator* called `LinearRegression` that solves this optimiztion problem.\n",
    "\n",
    "We will have a fuller discussion of the mathematics of the algorithm at a later date.\n",
    "\n",
    "For now, our objective is to use the estimator to obtain an optimal (relative to Cost) $\\Theta$.\n",
    "\n",
    "This is called **fitting** the model"
   ]
  },
  {
   "cell_type": "markdown",
   "metadata": {
    "slideshow": {
     "slide_type": "subslide"
    }
   },
   "source": [
    "We formulate the problem as an optimization: Choose $\\Theta$ that minimizes the loss $\\loss$\n",
    "$$\n",
    "\\begin{array}{lll}\\\\\n",
    "& \\Theta & = & \\textrm{argmin}_{\\Theta} { \\loss } & \\\\\n",
    "\\end{array}\n",
    "$$\n",
    "\n",
    "Linear Regression is an algorithm that solves this optimization problem."
   ]
  },
  {
   "cell_type": "markdown",
   "metadata": {
    "slideshow": {
     "slide_type": "slide"
    }
   },
   "source": [
    "### LinearRegression model in sklearn"
   ]
  },
  {
   "cell_type": "code",
   "execution_count": 17,
   "metadata": {
    "slideshow": {
     "slide_type": "subslide"
    }
   },
   "outputs": [
    {
     "name": "stdout",
     "output_type": "stream",
     "text": [
      "Coefficients: \n",
      " [4.93224426] [[0.96836946]]\n",
      "\n",
      "Shape of intercept: (1,); shape of coefficients: (1, 1)\n"
     ]
    }
   ],
   "source": [
    "# Say it in code\n",
    "\n",
    "# Create linear regression object\n",
    "regr = linear_model.LinearRegression()\n",
    "\n",
    "# Train the model using the training sets\n",
    "_ = regr.fit(X_train, y_train)\n",
    "\n",
    "# The coefficients\n",
    "print('Coefficients: \\n', regr.intercept_, regr.coef_)\n",
    "print(\"\\nShape of intercept: {i}; shape of coefficients: {c}\".format(i=regr.intercept_.shape,\n",
    "                                                                   c=regr.coef_.shape) )"
   ]
  },
  {
   "cell_type": "markdown",
   "metadata": {
    "slideshow": {
     "slide_type": "slide"
    }
   },
   "source": [
    "- `regr = linear_model.LinearRegression()` \n",
    "    - creates an *unitinitialzed* model object with $\\Theta$ undefined\n",
    "- `_ = regr.fit(X_train, y_train)`\n",
    "    - fits the model to the training set, setting $\\Theta$\n",
    "-  `y_pred = regr.predict(X_test)`\n",
    "    - we can use the model to predict once it has been fit\n",
    "    - since $\\Theta$ is defined, we can predict $\\Theta^T \\x'$\n",
    "        - for any feature vector $\\x'$ (not necessarily from the training or test sets)\n",
    "        - $\\x'_0 = 1$, i.e, the vector has been augmented with a leading feature that is \"1\""
   ]
  },
  {
   "cell_type": "markdown",
   "metadata": {
    "slideshow": {
     "slide_type": "slide"
    }
   },
   "source": [
    "### Let's Predict !"
   ]
  },
  {
   "cell_type": "code",
   "execution_count": 18,
   "metadata": {
    "slideshow": {
     "slide_type": "subslide"
    }
   },
   "outputs": [
    {
     "data": {
      "text/plain": [
       "array([[100]])"
      ]
     },
     "execution_count": 18,
     "metadata": {},
     "output_type": "execute_result"
    }
   ],
   "source": [
    "# Recall: one way to turn a 1D ndarray into 2D is using reshape\n",
    "np.array([100]).reshape(-1,1)"
   ]
  },
  {
   "cell_type": "code",
   "execution_count": 19,
   "metadata": {
    "slideshow": {
     "slide_type": "subslide"
    }
   },
   "outputs": [
    {
     "name": "stdout",
     "output_type": "stream",
     "text": [
      "For size [100], predicted Price Premium [[101.76919047]]\n"
     ]
    }
   ],
   "source": [
    "# One prediction\n",
    "t = [100]\n",
    "\n",
    "# Remember: want a 2D ndarray\n",
    "t_array = np.array(t).reshape(-1,1)\n",
    "\n",
    "print(\"For size {s}, predicted {attr} {d}\".format(s=t, attr=ylabel, d=regr.predict(t_array)))"
   ]
  },
  {
   "cell_type": "code",
   "execution_count": 20,
   "metadata": {
    "slideshow": {
     "slide_type": "slide"
    }
   },
   "outputs": [],
   "source": [
    "# Lots of predictions: predict on entire test set\n",
    "y_pred = regr.predict(X_test)"
   ]
  },
  {
   "cell_type": "markdown",
   "metadata": {
    "slideshow": {
     "slide_type": "slide"
    }
   },
   "source": [
    "### How did we do ?  Evaluate the Performance Measure on the test set\n",
    "- Measure the performance out of sample, on the test set\n",
    "- Interpret the results\n",
    "    - do the results suggest room for improvement (i.e, the next experiment) ?"
   ]
  },
  {
   "cell_type": "code",
   "execution_count": 21,
   "metadata": {
    "slideshow": {
     "slide_type": "slide"
    }
   },
   "outputs": [
    {
     "name": "stdout",
     "output_type": "stream",
     "text": [
      "Root Mean squared error: 6.86\n",
      "R-squared: 0.98\n"
     ]
    }
   ],
   "source": [
    "# The mean squared error\n",
    "rmse = np.sqrt( mean_squared_error(y_test,  y_pred))\n",
    "print(\"Root Mean squared error: {:.2f}\".format( rmse ) )\n",
    "\n",
    "# Explained variance score: 1 is perfect prediction\n",
    "print(\"R-squared: {:.2f}\".format(r2_score(y_test, y_pred)) )"
   ]
  },
  {
   "cell_type": "markdown",
   "metadata": {},
   "source": [
    "What do these numbers mean ?\n",
    "- Relative to the given test set\n",
    "    - our price premium predictions are with +/- 7\n",
    "- Let's visualize the fit"
   ]
  },
  {
   "cell_type": "markdown",
   "metadata": {
    "slideshow": {
     "slide_type": "slide"
    }
   },
   "source": [
    "#### Visualize the fit"
   ]
  },
  {
   "cell_type": "code",
   "execution_count": 22,
   "metadata": {
    "slideshow": {
     "slide_type": "subslide"
    }
   },
   "outputs": [
    {
     "data": {
      "image/png": "[encoded data removed]",
      "text/plain": [
       "<Figure size 432x288 with 1 Axes>"
      ]
     },
     "metadata": {
      "needs_background": "light"
     },
     "output_type": "display_data"
    }
   ],
   "source": [
    "# Plot predicted ylabel (red) and true ylabel (black)\n",
    "fig = plt.figure()\n",
    "ax  = fig.add_subplot(1,1,1)\n",
    "\n",
    "_ = ax.scatter(X_test, y_test, color='black', label=\"test\")\n",
    "_ = ax.scatter(X_test, y_pred, color=\"red\",   label=\"predicted\")\n",
    "_ = ax.set_xlabel(xlabel)\n",
    "_ = ax.set_ylabel(ylabel)\n",
    "_ = ax.legend()"
   ]
  },
  {
   "cell_type": "markdown",
   "metadata": {
    "slideshow": {
     "slide_type": "subslide"
    }
   },
   "source": [
    "Since model is linear, we connect the fitted points into a fitted line"
   ]
  },
  {
   "cell_type": "code",
   "execution_count": 23,
   "metadata": {
    "slideshow": {
     "slide_type": "subslide"
    }
   },
   "outputs": [
    {
     "data": {
      "image/png": "[encoded data removed]",
      "text/plain": [
       "<Figure size 432x288 with 1 Axes>"
      ]
     },
     "metadata": {
      "needs_background": "light"
     },
     "output_type": "display_data"
    }
   ],
   "source": [
    "# Plot predicted ylabel (red) and true  (black)\n",
    "fig = plt.figure()\n",
    "ax  = fig.add_subplot(1,1,1)\n",
    "\n",
    "_ = ax.scatter(X_test, y_test, color='black', label=\"test\")\n",
    "_ = ax.scatter(X_test, y_pred, color=\"red\",   label=\"predicted\")\n",
    "\n",
    "_ = ax.plot(X_test, y_pred, color=\"red\")\n",
    "_ = ax.set_xlabel(xlabel)\n",
    "_ = ax.set_ylabel(ylabel)\n",
    "_ = ax.legend()"
   ]
  },
  {
   "cell_type": "markdown",
   "metadata": {
    "slideshow": {
     "slide_type": "subslide"
    }
   },
   "source": [
    "#### What do the errors tell you\n",
    "\n",
    "- The differences between predictions (red line) and actual (black dots) seems biggest in the tails\n",
    "\n",
    "We will have a lot more to say about Error Analysis later on.\n",
    "\n",
    "For now: suffice it to say that you sometimes learn more from your failures than from your successes."
   ]
  },
  {
   "cell_type": "markdown",
   "metadata": {
    "slideshow": {
     "slide_type": "slide"
    }
   },
   "source": [
    "### Machine Learning versus \"Statistics\"\n",
    "\n",
    "- In Machine Learning, the Performance Metric is evaluated out of sample\n",
    "- In Statistics, we often evaluate this measure in sample\n",
    "\n",
    "Is Statistics just Machine Learning where the Test and Training sets are the same ?\n",
    "\n",
    "Let's look at how well we did in sample"
   ]
  },
  {
   "cell_type": "code",
   "execution_count": 24,
   "metadata": {
    "slideshow": {
     "slide_type": "slide"
    }
   },
   "outputs": [
    {
     "name": "stdout",
     "output_type": "stream",
     "text": [
      "(train) Root Mean squared error: 6.56\n",
      "(train) R-squared: 0.98\n"
     ]
    }
   ],
   "source": [
    "# Lots of predictions: predict on entire TRAINING set\n",
    "y_pred_train = regr.predict(X_train)\n",
    "\n",
    "# The mean squared error\n",
    "rmse_train = np.sqrt( mean_squared_error(y_train,  y_pred_train))\n",
    "print(\"(train) Root Mean squared error: {:.2f}\".format( rmse_train ) )\n",
    "\n",
    "# Explained variance score: 1 is perfect prediction\n",
    "print(\"(train) R-squared: {:.2f}\".format(r2_score(y_train, y_pred_train)) )"
   ]
  },
  {
   "cell_type": "markdown",
   "metadata": {
    "slideshow": {
     "slide_type": "subslide"
    }
   },
   "source": [
    "- In sample RMSE, $R^2$ similar to out of sample\n",
    " \n",
    "- The larger errors in the tails shows up in the taining set too\n",
    "\n",
    "If you don't do well in-sample, it's hard to imagine that you'll do better out of sample.\n",
    "\n",
    "So it is often helpful to look at errors in the training sample."
   ]
  },
  {
   "cell_type": "markdown",
   "metadata": {
    "slideshow": {
     "slide_type": "subslide"
    }
   },
   "source": [
    "Stated another way\n",
    "- Statistics is often concerned with *explanation* (of the past)\n",
    "- Machine Learning is concerned with *prediction* (of the future_"
   ]
  },
  {
   "cell_type": "markdown",
   "metadata": {
    "slideshow": {
     "slide_type": "subslide"
    }
   },
   "source": [
    "Before we dismiss Statistics, it is a highly disciplined field that we can learn from\n",
    "- emphasis on *confidence intervals*\n",
    "    - everything is an estimate (e.g., our parameters)\n",
    "    - what is the range of likely values\n",
    "        \n",
    "This is sadly missing from parts of Machine Learning\n",
    "- particularly Deep Learning (it's just too expensive to compute confidence intervals)\n",
    "- we will introduce Cross Validation as a proxy for confidence intervals"
   ]
  },
  {
   "cell_type": "markdown",
   "metadata": {
    "slideshow": {
     "slide_type": "slide"
    }
   },
   "source": [
    "### Iterative improvement\n",
    "- Our model is pretty good !\n",
    "    - Do we need to iterate in this case ?\n",
    "        - decent RMSE, but clearly a problem in the tails\n",
    "    - In general: you will observe where the model did well and did less well\n",
    "        - will lead you to a new experiment\n",
    "            - Feature iteration\n",
    "                - adding a previously discarded feature\n",
    "                - creating a synthetic feature\n",
    "            - Hypothesis iteration\n",
    "                - maybe a Linear model with a single parameter is not best ?\n",
    "                    - how about a second order model (e.g., $X$ and $X^2$ as features\n",
    "                - maybe a different model would be better (e.g., Tree)\n",
    "                \n",
    "Hopefully, we've made our point with the toy example and we won't iterate further."
   ]
  },
  {
   "cell_type": "markdown",
   "metadata": {
    "slideshow": {
     "slide_type": "slide"
    }
   },
   "source": [
    "## Fine-tuning your model\n",
    "\n",
    "Once we are satisfied with our Hypothesis, there may be some \"knobs\" to adjust for even better results\n",
    "\n",
    "- Hyper-parameters\n",
    "- GridSearch\n",
    "- Ensembles\n",
    "\n",
    "- We will visit this later"
   ]
  },
  {
   "cell_type": "markdown",
   "metadata": {
    "slideshow": {
     "slide_type": "slide"
    }
   },
   "source": [
    "# What if our data is not linear ? "
   ]
  },
  {
   "cell_type": "markdown",
   "metadata": {
    "slideshow": {
     "slide_type": "slide"
    }
   },
   "source": [
    "## Make it linear: transformations\n",
    "\n",
    "Suppose we're given a different dataset.  \n",
    "\n",
    "Let's try out our recipe and see what changes might be needed\n",
    "\n",
    "Here's what the first dataset looked like\n"
   ]
  },
  {
   "cell_type": "code",
   "execution_count": 25,
   "metadata": {
    "slideshow": {
     "slide_type": "subslide"
    }
   },
   "outputs": [
    {
     "data": {
      "image/png": "[encoded data removed]",
      "text/plain": [
       "<Figure size 432x288 with 1 Axes>"
      ]
     },
     "metadata": {
      "needs_background": "light"
     },
     "output_type": "display_data"
    }
   ],
   "source": [
    "X_orig, y_orig = X_lin, y_lin \n",
    "\n",
    "rh.gen_plot(X_orig, y_orig, xlabel, ylabel)"
   ]
  },
  {
   "cell_type": "markdown",
   "metadata": {
    "slideshow": {
     "slide_type": "slide"
    }
   },
   "source": [
    "And here's what the new dataset looks like"
   ]
  },
  {
   "cell_type": "code",
   "execution_count": 26,
   "metadata": {
    "slideshow": {
     "slide_type": "subslide"
    }
   },
   "outputs": [
    {
     "data": {
      "image/png": "[encoded data removed]",
      "text/plain": [
       "<Figure size 432x288 with 1 Axes>"
      ]
     },
     "metadata": {
      "needs_background": "light"
     },
     "output_type": "display_data"
    }
   ],
   "source": [
    "v2, a2 = v1, a1*2\n",
    "X_curve, y_curve = rh.gen_data(num=50, v=v2, a=a2)\n",
    "rh.gen_plot(X_curve,y_curve, xlabel, ylabel)"
   ]
  },
  {
   "cell_type": "markdown",
   "metadata": {
    "slideshow": {
     "slide_type": "subslide"
    }
   },
   "source": [
    "Hmm.  Looks like a lot more curvature, maybe we need a better hypothesis than a linear model ?\n",
    "\n",
    "Let's verify this by seeing the result on the linear model.\n"
   ]
  },
  {
   "cell_type": "markdown",
   "metadata": {
    "slideshow": {
     "slide_type": "skip"
    }
   },
   "source": [
    "- **Gotcha**: beware of re-evaluating an earlier cell that references a variable that was changed in a later cell !\n",
    "    - I use the variables `X_train, X_test, y_train, y_test` for both the first and second example\n",
    "    - If, after running the second example, I re-run a cell associated with the first: confusion !\n"
   ]
  },
  {
   "cell_type": "markdown",
   "metadata": {
    "slideshow": {
     "slide_type": "slide"
    }
   },
   "source": [
    "Here's our linear model on the original data"
   ]
  },
  {
   "cell_type": "code",
   "execution_count": 27,
   "metadata": {
    "slideshow": {
     "slide_type": "subslide"
    }
   },
   "outputs": [
    {
     "name": "stdout",
     "output_type": "stream",
     "text": [
      "Coefficients: \n",
      " [4.93224426] [[0.96836946]]\n",
      "\n",
      "\n",
      "R-squared (test): 0.98\n",
      "Root Mean squared error (test): 6.86\n",
      "\n",
      "\n",
      "R-squared (train): 0.98\n",
      "Root Mean squared error (train): 6.56\n"
     ]
    },
    {
     "data": {
      "image/png": "[encoded data removed]",
      "text/plain": [
       "<Figure size 864x288 with 2 Axes>"
      ]
     },
     "metadata": {
      "needs_background": "light"
     },
     "output_type": "display_data"
    }
   ],
   "source": [
    "rh.run_regress(X_orig, y_orig)"
   ]
  },
  {
   "cell_type": "markdown",
   "metadata": {
    "slideshow": {
     "slide_type": "slide"
    }
   },
   "source": [
    "And now here's our linear model on the new \"curvier\" dataset"
   ]
  },
  {
   "cell_type": "code",
   "execution_count": 28,
   "metadata": {
    "slideshow": {
     "slide_type": "subslide"
    }
   },
   "outputs": [
    {
     "name": "stdout",
     "output_type": "stream",
     "text": [
      "Coefficients: \n",
      " [9.86448852] [[0.93673892]]\n",
      "\n",
      "\n",
      "R-squared (test): 0.91\n",
      "Root Mean squared error (test): 13.73\n",
      "\n",
      "\n",
      "R-squared (train): 0.91\n",
      "Root Mean squared error (train): 13.13\n"
     ]
    },
    {
     "data": {
      "image/png": "[encoded data removed]",
      "text/plain": [
       "<Figure size 864x288 with 2 Axes>"
      ]
     },
     "metadata": {
      "needs_background": "light"
     },
     "output_type": "display_data"
    }
   ],
   "source": [
    "rh.run_regress(X_curve, y_curve)"
   ]
  },
  {
   "cell_type": "markdown",
   "metadata": {
    "slideshow": {
     "slide_type": "slide"
    }
   },
   "source": [
    "Not terrible, but clearly room for improvement, compared to the original dataset.\n",
    "- the $R^2$ is still over 90%\n",
    "- but the RMSE is twice as big"
   ]
  },
  {
   "cell_type": "markdown",
   "metadata": {
    "slideshow": {
     "slide_type": "subslide"
    }
   },
   "source": [
    "<div class=\"alert alert-block alert-success\">\n",
    "<b>TIP</b>\n",
    "<br>\n",
    "    <ul>\n",
    "        <li>Don't stop just because you scored 91%. And don't give up if the score was awful.</li>\n",
    "\n",
    "<li>Examining the errors (residuals) reveals alot about how to improve your model.\n",
    "     <ul>\n",
    "    <li>Where was the fit good ? Where was it bad ? </li>\n",
    "    <li>Is there a pattern to the badly fit observations that points to a missing \n",
    "         feature ?</li>\n",
    "          </ul>\n",
    "    </li>\n",
    "</div>\n",
    "\n",
    "One of the real arts of ML is diagnosing model deficiencies and knowing how to improve them.\n",
    "\n",
    "We will have a separate module on this topic."
   ]
  },
  {
   "cell_type": "markdown",
   "metadata": {
    "slideshow": {
     "slide_type": "slide"
    }
   },
   "source": [
    "Looks like a second degree polynomial might be a better hypothesis to explain our data.\n",
    "\n",
    "$$ y = \\beta_0 + \\beta_1  x + \\beta_2  x^2$$\n",
    "\n",
    "Let's modify $\\x^\\ip$ from a vector of length 1:\n",
    "\n",
    "$$\n",
    "\\x^\\ip = (\\x^\\ip_1)\n",
    "$$\n",
    "\n",
    "to a vector of length 2:\n",
    "\n",
    "$$\n",
    "\\x^\\ip = (\\x^\\ip_1, {\\x^\\ip_1}^2)\n",
    "$$\n",
    "\n",
    "by adding a squared term to the vector $\\x^\\ip$, for each $i$."
   ]
  },
  {
   "cell_type": "markdown",
   "metadata": {
    "slideshow": {
     "slide_type": "subslide"
    }
   },
   "source": [
    "The modified $\\X'$ becomes:\n",
    "\n",
    "$$\n",
    "\\X =\n",
    "\\begin{pmatrix}\n",
    "  1  &\\x^{(1)}_1   &  (\\x^{(1)}_1)^2 \\\\ \n",
    "   1 &\\x^{(2)}_1   &  (\\x^{(2)}_1)^2\\\\ \n",
    "   \\vdots & \\vdots &                \\\\\n",
    "   1 &\\x^{(m)}_1   &  (\\x^{(m)}_1)^2\\ \\\n",
    "  \\end{pmatrix}\n",
    "$$\n"
   ]
  },
  {
   "cell_type": "markdown",
   "metadata": {
    "slideshow": {
     "slide_type": "slide"
    }
   },
   "source": [
    "Note that this modified $\\X'$ fits perfectly within our Linear hypothesis\n",
    "$$\n",
    "\\hat{\\y} = \\X' \\Theta\n",
    "$$\n",
    "\n",
    "The requirement is that the model be linear in its *features*, **not** that the features be linear !"
   ]
  },
  {
   "cell_type": "markdown",
   "metadata": {
    "slideshow": {
     "slide_type": "slide"
    }
   },
   "source": [
    "What we have done is added a second feature, that just so happens to be related to the first.\n",
    "\n",
    "We can now run our linear model with the modified feature vectors\n",
    "\n",
    "**A word about our module**\n",
    "- we add the $x^2$ column by setting optional parameter `run_transform` to `True`\n"
   ]
  },
  {
   "cell_type": "code",
   "execution_count": 29,
   "metadata": {
    "slideshow": {
     "slide_type": "subslide"
    }
   },
   "outputs": [
    {
     "name": "stdout",
     "output_type": "stream",
     "text": [
      "Coefficients: \n",
      " [-7.10542736e-15] [[1.    0.005]]\n",
      "\n",
      "\n",
      "R-squared (test): 1.00\n",
      "Root Mean squared error (test): 0.00\n",
      "\n",
      "\n",
      "R-squared (train): 1.00\n",
      "Root Mean squared error (train): 0.00\n"
     ]
    },
    {
     "data": {
      "image/png": "[encoded data removed]",
      "text/plain": [
       "<Figure size 864x288 with 2 Axes>"
      ]
     },
     "metadata": {
      "needs_background": "light"
     },
     "output_type": "display_data"
    }
   ],
   "source": [
    "rh.run_regress(X_curve, y_curve, run_transforms=True)"
   ]
  },
  {
   "cell_type": "markdown",
   "metadata": {
    "slideshow": {
     "slide_type": "subslide"
    }
   },
   "source": [
    "Perfect fit !\n",
    "\n"
   ]
  },
  {
   "cell_type": "markdown",
   "metadata": {
    "slideshow": {
     "slide_type": "slide"
    }
   },
   "source": [
    "# Feature engineering (intro)\n",
    "\n",
    "Transforming data may be **the most important** step of the multi-step Recipe !\n",
    "\n",
    "It is often the case that the \"raw\" features given to us don't suffice \n",
    "- we may need to create \"synthetic\" features.  \n",
    "- This is called **feature engineering**.\n",
    "\n",
    "In our case, the squared feature was key."
   ]
  },
  {
   "cell_type": "markdown",
   "metadata": {
    "slideshow": {
     "slide_type": "slide"
    }
   },
   "source": [
    "There will be other reasons for transforming the data (e.g., accomodating model assumptions).\n",
    "\n",
    "Some of these transformations may *alter* the raw features rather than just augment them.\n",
    "\n",
    "Transformations will be the subject of a separate lectrue."
   ]
  },
  {
   "cell_type": "markdown",
   "metadata": {
    "slideshow": {
     "slide_type": "subslide"
    }
   },
   "source": [
    "For this lecture, we will focus on *mechanics*\n",
    "- Transformations often occurs as a series (called a pipeline)\n",
    "    - `sklearn` and other API's often faciliate building pipelines\n",
    "- Whatever transformations you apply to the Training set *must also be applied* to the Test set !\n",
    "    - It's easy to accidentally \"cheat\" and mis-use the Test data in training\n",
    "- Transformed data may alter raw features (e.g., modify dimensions, like the scale)\n",
    "    - your predictions will then be in the space of \"new\" dimensions\n",
    "    - you will need to invert the transformations to recast the predictions into original dimensions"
   ]
  },
  {
   "cell_type": "markdown",
   "metadata": {
    "slideshow": {
     "slide_type": "subslide"
    }
   },
   "source": [
    "## Transform both training and test data in the same way !\n",
    "\n",
    "Let's examine the code we used to create the new feature:\n",
    "\n",
    "\n",
    "` # Transform X's\n",
    "    if (run_transforms):\n",
    "        X_train = transform(X_train)\n",
    "        X_test  = transform(X_test)\n",
    "`\n",
    "\n",
    "Clearly, we have to tranform `X_train`, but why did we transform `X_test` ?\n",
    "\n",
    "**Feature engineeering lesson 1:** the same features should be present in training and test !\n",
    "- the whole purpose of adding the feature was to aid *prediction* so must be in test set too."
   ]
  },
  {
   "cell_type": "markdown",
   "metadata": {
    "slideshow": {
     "slide_type": "slide"
    }
   },
   "source": [
    "## No cheating  in Feature Engineering either !\n",
    "\n",
    "Remember, we had set aside a set of Test Data with the promise to only look at it once.\n",
    "\n",
    "But considering that we need to apply an *identical* transformation to both the Train and Test data sets,\n",
    "wouldn't it be convenient to combine this into one step ?\n",
    "- e.g., convert from levels to percent changes\n"
   ]
  },
  {
   "cell_type": "markdown",
   "metadata": {
    "slideshow": {
     "slide_type": "subslide"
    }
   },
   "source": [
    "You may have noticed our module did **not** combine the transformations of `X_train` and `X_test`\n",
    "\n",
    "\n",
    "`X_train, X_test, y_train, y_test = split(X,y)`  \n",
    "    \n",
    "\\# `Transform X's`\n",
    "\n",
    "`if (run_transforms):\n",
    "    X_train = transform(X_train)\n",
    "    X_test  = transform(X_test)\n",
    "`"
   ]
  },
  {
   "cell_type": "markdown",
   "metadata": {
    "slideshow": {
     "slide_type": "subslide"
    }
   },
   "source": [
    "This was very deliberate.\n",
    "\n",
    "Couldn't we have just transformed `X` before splitting ?\n",
    "\n",
    "    if (run_transforms):\n",
    "        X = transform(X)\n",
    "    \n",
    "    X_train, X_test, y_train, y_test = split(X,y)  \n",
    "\n",
    "\n",
    "**Question**: Why might this be a bad idea ?"
   ]
  },
  {
   "cell_type": "markdown",
   "metadata": {
    "slideshow": {
     "slide_type": "subslide"
    }
   },
   "source": [
    "Transforming `X` before splitting\n",
    "- creates the *possibility* of leaking information from Test to Train\n",
    "- That would amount to \"cheating\"\n",
    "\n",
    "Consider a \"missing value\" transformation to replace missing values with the mean:\n",
    "- `X.mean()` includes information about `X_test` !\n",
    "- so replace missing values in `X_train` with `X_train.mean()` **not** `X.mean()`\n",
    "   "
   ]
  },
  {
   "cell_type": "markdown",
   "metadata": {
    "slideshow": {
     "slide_type": "subslide"
    }
   },
   "source": [
    "- also replace missing values in `X_test` with `X_train.mean()`\n",
    "    - **not** a typo ! Why use `X_train.mean()` to replace values in `X_test` ?   \n",
    " \n",
    "**Feature engineeering lesson 2:** \n",
    "\n",
    "Apply the *same* transformations to Train and Test, but *independently*\n",
    "\n",
    "This was our first (but hardly our last) Data Transformation.  Lots more to come."
   ]
  },
  {
   "cell_type": "markdown",
   "metadata": {
    "slideshow": {
     "slide_type": "slide"
    }
   },
   "source": [
    "## Pipelines\n",
    "\n",
    "We applied only a single transformation but, in general, there may be *multiple* transformations to apply.\n",
    "\n",
    "We have to run an **identical** sequence of transformations on the train and test datasets.\n",
    "\n",
    "I did this above via the `transform` routine, that encapsulates all the transformations so we can apply them to both train and test consistently. \n",
    "\n",
    "So `transform` will become:\n"
   ]
  },
  {
   "cell_type": "markdown",
   "metadata": {
    "slideshow": {
     "slide_type": "subslide"
    }
   },
   "source": [
    "\n",
    "def transform(X):\n",
    "\n",
    "    X_1 = run_transform_1(X)\n",
    "    X_2 = run_transform_2(X_1)\n",
    "        ...\n",
    "    X_n  = run_transform_n(X_{n-1})\n",
    "    \n",
    "    return X_n\n",
    "`"
   ]
  },
  {
   "cell_type": "markdown",
   "metadata": {
    "slideshow": {
     "slide_type": "subslide"
    }
   },
   "source": [
    "This is called a transformation \"pipeline\".\n",
    "\n",
    "My implementation is less than ideal.\n",
    "\n",
    "A good architecture like **sklearn** will supply a rich library of independent transformations and a simple way to construct pipelines\n"
   ]
  },
  {
   "cell_type": "markdown",
   "metadata": {
    "slideshow": {
     "slide_type": "slide"
    }
   },
   "source": [
    "<img src=ML_process_pipeline.jpg>"
   ]
  },
  {
   "cell_type": "markdown",
   "metadata": {
    "slideshow": {
     "slide_type": "slide"
    }
   },
   "source": [
    "### Pipelines in sklearn\n",
    "\n"
   ]
  },
  {
   "cell_type": "code",
   "execution_count": 30,
   "metadata": {
    "slideshow": {
     "slide_type": "subslide"
    }
   },
   "outputs": [
    {
     "data": {
      "text/plain": [
       "Pipeline(memory=None,\n",
       "     steps=[('polynomialfeatures', PolynomialFeatures(degree=2, include_bias=True, interaction_only=False)), ('linearregression', LinearRegression(copy_X=True, fit_intercept=True, n_jobs=None,\n",
       "         normalize=False))])"
      ]
     },
     "execution_count": 30,
     "metadata": {},
     "output_type": "execute_result"
    }
   ],
   "source": [
    "X_curve, y_curve = rh.gen_data(num=50, v=v2, a=a2)\n",
    "\n",
    "\n",
    "X_train, X_test, y_train, y_test = rh.split(X_curve,y_curve)\n",
    "\n",
    "xfit = np.linspace(0, 10, 1000)\n",
    "\n",
    "from sklearn.preprocessing import PolynomialFeatures\n",
    "import sklearn.preprocessing as pre_proc\n",
    "\n",
    "# Create the Pipeline\n",
    "from sklearn.pipeline import make_pipeline\n",
    "poly_model = make_pipeline(pre_proc.PolynomialFeatures(2),\n",
    "                           linear_model.LinearRegression())\n",
    "\n",
    "x=None\n",
    "y=None\n",
    "\n",
    "# Fit the model, running the data transformation first\n",
    "poly_model.fit(X_train.reshape(-1,1), y_train)"
   ]
  },
  {
   "cell_type": "code",
   "execution_count": 31,
   "metadata": {
    "slideshow": {
     "slide_type": "subslide"
    }
   },
   "outputs": [
    {
     "name": "stdout",
     "output_type": "stream",
     "text": [
      "Score (train):  1.0\n",
      "Score (test):  1.0\n",
      "Last element of pipeline: ('linearregression', LinearRegression(copy_X=True, fit_intercept=True, n_jobs=None,\n",
      "         normalize=False))\n",
      "Score (test, via LinearRegression object):  0.8671060075570477\n"
     ]
    }
   ],
   "source": [
    "\n",
    "# Prediction based on test set\n",
    "y_pred = poly_model.predict(X_test.reshape(-1,1))\n",
    "\n",
    "# In and out of sample scores\n",
    "print(\"Score (train): \", poly_model.score(X_train.reshape(-1,1), y_train))\n",
    "print(\"Score (test): \",  poly_model.score(X_test.reshape(-1,1),  y_test))\n",
    "\n",
    "# Accessing just PART of the Pipeline: the last (i.e, regression) step\n",
    "print(\"Last element of pipeline:\", poly_model.steps[1])\n",
    "regr_ = poly_model.steps[-1]\n",
    "\n",
    "# NOTE: this accesses the last element of the pipeline WITHOUT having run the earlier steps !  So no Polynomial transformation !\n",
    "print(\"Score (test, via LinearRegression object): \",  regr.score(X_test.reshape(-1,1),  y_test))"
   ]
  },
  {
   "cell_type": "code",
   "execution_count": 32,
   "metadata": {
    "slideshow": {
     "slide_type": "subslide"
    }
   },
   "outputs": [
    {
     "name": "stdout",
     "output_type": "stream",
     "text": [
      "R-squared score (test): 1.00\n"
     ]
    },
    {
     "data": {
      "image/png": "[encoded data removed]",
      "text/plain": [
       "<Figure size 432x288 with 2 Axes>"
      ]
     },
     "metadata": {
      "needs_background": "light"
     },
     "output_type": "display_data"
    }
   ],
   "source": [
    "# Plot the results\n",
    "# Create a figure\n",
    "fig = plt.figure()\n",
    "\n",
    "# Create a histogram for X.  The figure will be 1 row by 2 columns and the plot for X will be in column 1\n",
    "ax = fig.add_subplot(121)\n",
    "_= ax.scatter(X_train,y_train)\n",
    "\n",
    "xfit = np.linspace( X_train[:,0].min(), X_train[:,0].max()).reshape(-1,1)\n",
    "yfit = poly_model.predict(xfit)\n",
    "_= ax.plot(xfit, yfit);\n",
    "_= ax.set_title(\"Train\")\n",
    "\n",
    "ax = fig.add_subplot(122);\n",
    "_ = ax.scatter(X_test, y_test, color=\"blue\")\n",
    "_ = ax.scatter(X_test, y_pred, color=\"red\")\n",
    "\n",
    "_ = ax.plot(xfit, yfit)\n",
    "_= ax.set_title(\"Test\")\n",
    "\n",
    "\n",
    "print(\"R-squared score (test): {:.2f}\".format(r2_score(y_test, y_pred)) )"
   ]
  },
  {
   "cell_type": "markdown",
   "metadata": {
    "slideshow": {
     "slide_type": "slide"
    }
   },
   "source": [
    "That was a handful ! Let's break it down into smaller bites.\n",
    "\n"
   ]
  },
  {
   "cell_type": "raw",
   "metadata": {
    "slideshow": {
     "slide_type": "subslide"
    }
   },
   "source": [
    "# Create the Pipeline\n",
    "from sklearn.pipeline import make_pipeline\n",
    "poly_model = make_pipeline(pre_proc.PolynomialFeatures(2),\n",
    "                           linear_model.LinearRegression())\n"
   ]
  },
  {
   "cell_type": "markdown",
   "metadata": {
    "slideshow": {
     "slide_type": "subslide"
    }
   },
   "source": [
    "`make_pipeline` creates a \"pipeline\" which we assign to `poly_model`\n",
    "\n",
    "The pipeline has two steps:\n",
    "- `pre_proc.PolynomialFeatures(2)`\n",
    "    - creates polynomial features up to degree 2\n",
    "- `linear_model.LinearRegression()`\n",
    "    - this actually runs the linear regression !\n",
    "        - In addition to `fit` and `predict` methods, models can also do `transform`"
   ]
  },
  {
   "cell_type": "markdown",
   "metadata": {
    "slideshow": {
     "slide_type": "slide"
    }
   },
   "source": [
    "Let's examine the internals of the Pipeline object"
   ]
  },
  {
   "cell_type": "code",
   "execution_count": 33,
   "metadata": {
    "slideshow": {
     "slide_type": "subslide"
    }
   },
   "outputs": [
    {
     "data": {
      "text/plain": [
       "[('polynomialfeatures',\n",
       "  PolynomialFeatures(degree=2, include_bias=True, interaction_only=False)),\n",
       " ('linearregression',\n",
       "  LinearRegression(copy_X=True, fit_intercept=True, n_jobs=None,\n",
       "           normalize=False))]"
      ]
     },
     "execution_count": 33,
     "metadata": {},
     "output_type": "execute_result"
    },
    {
     "data": {
      "text/plain": [
       "('linearregression',\n",
       " LinearRegression(copy_X=True, fit_intercept=True, n_jobs=None,\n",
       "          normalize=False))"
      ]
     },
     "execution_count": 33,
     "metadata": {},
     "output_type": "execute_result"
    }
   ],
   "source": [
    "poly_model.steps\n",
    "poly_model.steps[-1]"
   ]
  },
  {
   "cell_type": "markdown",
   "metadata": {
    "slideshow": {
     "slide_type": "subslide"
    }
   },
   "source": [
    "- `poly_model.steps`\n",
    "    - An array of steps of the pipeline\n",
    "- `poly_model.steps[-1]`\n",
    "    - The last step in the pipeline, e.g, `LinearRegression`\n",
    "- Note in my code how I extracted the last step and used it indepdently of the pipeline:\n",
    "\n",
    "`"
   ]
  },
  {
   "cell_type": "raw",
   "metadata": {
    "slideshow": {
     "slide_type": "subslide"
    }
   },
   "source": [
    "# Accessing just PART of the Pipeline: the last (i.e, regression) step\n",
    "print(\"Last element of pipeline:\", poly_model.steps[1])\n",
    "regr_ = poly_model.steps[-1]\n",
    "\n",
    "# NOTE: this accesses the last element of the pipeline WITHOUT having run the earlier steps !  So no Polynomial transformation !\n",
    "print(\"Score (test, via LinearRegression object): \",  regr.score(X_test.reshape(-1,1),  y_test))\n"
   ]
  },
  {
   "cell_type": "markdown",
   "metadata": {
    "slideshow": {
     "slide_type": "slide"
    }
   },
   "source": [
    "[Here's](external/PythonDataScienceHandbook/notebooks/05.04-Feature-Engineering.ipynb#Feature-Pipelines) a slightly longer pipeline from VanderPlas.\n",
    "\n",
    "\n",
    "- `Imputer` to deal with misssing values\n",
    "- `PolynomialFeatures(degree=2)`\n",
    "- `LinearRegression()`"
   ]
  },
  {
   "cell_type": "markdown",
   "metadata": {
    "slideshow": {
     "slide_type": "slide"
    }
   },
   "source": [
    "#### Advanced Pipelines: FeatureUnion\n",
    "\n",
    "A pipeline successively applies transformation, starting with the input, and resulting in a transformed output.\n",
    "\n",
    "You can create separate pipelines and join their outputs (horizontally) using `FeatureUnion1\n"
   ]
  },
  {
   "cell_type": "raw",
   "metadata": {
    "slideshow": {
     "slide_type": "subslide"
    }
   },
   "source": [
    "num_pipeline = Pipeline([\n",
    "        (\"select_numeric\", DataFrameSelector([\"Age\", \"SibSp\", \"Parch\", \"Fare\"])),\n",
    "        (\"imputer\", SimpleImputer(strategy=\"median\")),\n",
    "    ])\n",
    "    \n",
    "cat_pipeline = Pipeline([\n",
    "        (\"select_cat\", DataFrameSelector([\"Pclass\", \"Sex\", \"Embarked\"])),\n",
    "        (\"imputer\", MostFrequentImputer()),\n",
    "        (\"cat_encoder\", OneHotEncoder(sparse=False)),\n",
    "    ])\n",
    "    \n",
    "from sklearn.pipeline import FeatureUnion\n",
    "preprocess_pipeline = FeatureUnion(transformer_list=[\n",
    "        (\"num_pipeline\", num_pipeline),\n",
    "        (\"cat_pipeline\", cat_pipeline),\n",
    "    ])   "
   ]
  },
  {
   "cell_type": "markdown",
   "metadata": {
    "slideshow": {
     "slide_type": "subslide"
    }
   },
   "source": [
    "- Separate pipelines to deal with distinct subsets of column types (numeric and non-numeric)\n",
    "- First step in each pipeline is to restrict the inputs to the relevant columns\n",
    "- So net effect is: one set of transformations for numeric columns and a separate set for non-numeric"
   ]
  },
  {
   "cell_type": "markdown",
   "metadata": {
    "slideshow": {
     "slide_type": "slide"
    }
   },
   "source": [
    "# Create a test set and put it aside (re-visited)\n",
    "\n",
    "- Why did we shuffle the data before splitting ?\n",
    "- *When* to shuffle"
   ]
  },
  {
   "cell_type": "markdown",
   "metadata": {
    "slideshow": {
     "slide_type": "slide"
    }
   },
   "source": [
    "# Validation and Cross-Validation\n",
    "\n",
    "- Why did we separate out a test set from our complete dataset ?\n",
    "\n",
    "- Recall our goal is good, out-of-sample prediction.  And the test set is our benchmark for generalization.\n",
    "- If we look at the test set in the middle of our process, it will influence our final model.  \n",
    "- We may thus wind up with a good score on the test set, but generalize poorly to a completely unseen observation.\n",
    "\n",
    "- It's like seeing the answers to an exam in advance ! Don't do it !  \n",
    "- You can only look at it *ONCE*, when you're all done, if you want a truly honest indicator of generalization."
   ]
  },
  {
   "cell_type": "markdown",
   "metadata": {
    "slideshow": {
     "slide_type": "slide"
    }
   },
   "source": [
    "## Validation\n",
    "\n",
    "[Geron notebook](external/PythonDataScienceHandbook/notebooks/05.03-Hyperparameters-and-Model-Validation.ipynb#Thinking-about-Model-Validation)\n",
    "\n",
    "- But wait ! During our iterative process we looked at the test data many times. \n",
    "    - e.g., motivated the selection of an alternate model\n",
    "- We also used the training data many times\n",
    "    - danger of overfitting to the training set ?\n",
    "\n",
    "What can we do ?"
   ]
  },
  {
   "cell_type": "markdown",
   "metadata": {
    "slideshow": {
     "slide_type": "slide"
    }
   },
   "source": [
    "- Answer: Split the *training set* into two pieces\n",
    "    - a smaller training set\n",
    "    - a *hold-out* piece called the *validation* set\n",
    "        - the validation set serves a similar role to the test set; it's out of sample\n",
    "        - it is used to see how well the model generalizes\n",
    "        - you can use the validation set *many* times (sort of) during your iterative process\n",
    "            - unlike the test set, which you may look at only once, at the end\n",
    "        "
   ]
  },
  {
   "cell_type": "markdown",
   "metadata": {
    "slideshow": {
     "slide_type": "subslide"
    }
   },
   "source": [
    "**Aside**\n",
    "\n",
    "So much splitting of data !\n",
    "\n",
    "Rather than using my own, hand-rolled splitter, we will henceforth use sklearn's `train_test_split` function.\n"
   ]
  },
  {
   "cell_type": "markdown",
   "metadata": {
    "slideshow": {
     "slide_type": "slide"
    }
   },
   "source": [
    "## Cross-Validation\n",
    "\n",
    "Splitting into a smaller training set, and a validation set, is a step in the right direction as it allows you to evaluate out of sample predictions without peeking into the test set.\n",
    "\n",
    "You might still be uncomfortable with the idea of a validation set that is used many times.  Rightly so.\n",
    "- We can wind up over-fitting to the validation set.  Isn't that cheating too ?\n",
    "- The smaller training set is smaller -- a problem if we don't have much training data to begin with.\n",
    "- The validation set is just *one* sample. \n",
    "    - How do we know the Performance Measure on this one sample is representative ?\n",
    "    - Where are the error bars or confidence intervals for this statistic ?\n",
    "    \n",
    "Cross-Validation to the rescue !"
   ]
  },
  {
   "cell_type": "markdown",
   "metadata": {
    "slideshow": {
     "slide_type": "subslide"
    }
   },
   "source": [
    "**K-fold cross-validation**\n",
    "- Split the training data into $K$ pieces (called *folds*. so K-fold means $K$ pieces).\n",
    "- Select one fold as the validation set, and use the other $(K-1)$ folds as the smaller training set\n",
    "    - Fit the model on the smaller training set\n",
    "    - Evaluate the Performance measure on the fold selected as the validation set\n",
    "- Repeat the above $(K-1)$ times, using a different fold as the validation set each time."
   ]
  },
  {
   "cell_type": "code",
   "execution_count": null,
   "metadata": {
    "slideshow": {
     "slide_type": "slide"
    }
   },
   "outputs": [],
   "source": [
    "Here's the picture\n",
    "\n",
    "![](Cross_Validation_Split.jpg)\n"
   ]
  },
  {
   "cell_type": "markdown",
   "metadata": {
    "slideshow": {
     "slide_type": "subslide"
    }
   },
   "source": [
    "At the end, you will have fit the model $K$ times, using $K$ different out of sample sets.\n",
    "\n",
    "This reduces the tendency of training to overfit to a single validation set."
   ]
  },
  {
   "cell_type": "markdown",
   "metadata": {
    "slideshow": {
     "slide_type": "subslide"
    }
   },
   "source": [
    "- This gives you $K$ values for the Performance Measure\n",
    "- These $K$ values form a probability distibution of Performance Measures\n",
    "- Use this distribution in order to create a \"confidence interval\" for the Performance Measure\n",
    "- This is akin to the statistical confidence interval for in-sample estimators"
   ]
  },
  {
   "cell_type": "markdown",
   "metadata": {
    "slideshow": {
     "slide_type": "subslide"
    }
   },
   "source": [
    "Typically, we report the average of the $K$ Performance Measures as our final Performance Measure.\n",
    "\n",
    "But it is also valuable to look at the range (e.g., standard deviation) to get an idea of how much it can vary.\n",
    "\n",
    "A model with a smaller range is more confident that one with a wider range.\n"
   ]
  },
  {
   "cell_type": "markdown",
   "metadata": {
    "slideshow": {
     "slide_type": "subslide"
    }
   },
   "source": [
    "This sounds like a lot of work.\n",
    "\n",
    "Fear not !\n",
    "\n",
    "sklearn has a function to do this for us: `cross_val_score`\n",
    "\n",
    "`from sklearn.cross_validation import cross_val_score`\n",
    "\n",
    "`scores = cross_val_score(model, X, y, cv=5)`\n",
    " \n",
    "This will do $5$-fold cross-validation (`cv=5`) on `model` using training features `X` and targets `y`.\n",
    "\n",
    "It will return $5$ scores, one per validation fold."
   ]
  },
  {
   "cell_type": "markdown",
   "metadata": {
    "slideshow": {
     "slide_type": "slide"
    }
   },
   "source": [
    "**In general you should be using Cross Validation in Classical ML** in the absence of a good reason not to !\n",
    "- helps you determine stability of your model's predictions\n",
    "- once we get to Deep Learning: \n",
    "    - training may be so expensive as to preclude the use of Cross Validation"
   ]
  },
  {
   "cell_type": "markdown",
   "metadata": {
    "slideshow": {
     "slide_type": "slide"
    }
   },
   "source": [
    "**ASIDE**\n",
    "Recall that there are several steps in creating a model, including\n",
    "- data preparation\n",
    "- data transformations\n",
    "- fitting\n",
    "\n",
    "You need to run *all* these steps each time you train the model.  \n",
    "\n",
    "In K-fold cross-validation, you are training a model $K$ times.  \n",
    "\n",
    "How do we get `cross_val_score` to run all these steps for us, each time ?"
   ]
  },
  {
   "cell_type": "markdown",
   "metadata": {
    "slideshow": {
     "slide_type": "subslide"
    }
   },
   "source": [
    "Pipelines ! (Introduced [above](Recipe_for_ML.ipynb#Pipelines))\n",
    "\n",
    "The trick is to include your model as the *last* step of the Pipeline.  \n",
    "\n",
    "Models are just like other transformations in that they respond to `fit`, `transform` and `fit_transform` methods.\n",
    "\n",
    "Running a Pipeline just calls `fit_transform` on each member in sequence.  \n",
    "\n",
    "All but the last massage your data.  But the last (the model) will actually fit our model !"
   ]
  },
  {
   "cell_type": "markdown",
   "metadata": {
    "slideshow": {
     "slide_type": "slide"
    }
   },
   "source": [
    "# Selecting a model (another re-visit)\n",
    "\n",
    "\n",
    "sklearn has LOTS of models to choose from.  We will explore many (but not all) of them.\n",
    "\n",
    "Your goal should be to understand *how* a model does it fitting (i.e., model math) so that you can determine\n",
    "- what is the right model to use for my data\n",
    "- what transformations of my data will make my model perform better\n",
    "\n",
    "You can explore Linear Regression in depth [in this VanderPlas notebook](external/PythonDataScienceHandbook/notebooks/05.06-Linear-Regression.ipynb)"
   ]
  },
  {
   "cell_type": "markdown",
   "metadata": {
    "slideshow": {
     "slide_type": "slide"
    }
   },
   "source": [
    "# Challenges: Overfitting and Underfitting\n",
    "\n",
    "## Overfitting\n",
    "\n",
    "We had great sucess when we created second order polynomial features.\n",
    "\n",
    "Why stop at order 2 ?\n",
    "\n",
    "Below we will create a simple-to-describe target ($\\textrm{sin}(x)$) with a complex shape and try to fit it with a higher order polynomial.\n"
   ]
  },
  {
   "cell_type": "code",
   "execution_count": 34,
   "metadata": {
    "slideshow": {
     "slide_type": "subslide"
    }
   },
   "outputs": [],
   "source": [
    "# Fit a higher order (degree) polynomial\n",
    "xfit = np.linspace(0, 10, 1000)\n",
    "\n",
    "from sklearn.preprocessing import PolynomialFeatures\n",
    "\n",
    "from sklearn.pipeline import make_pipeline\n",
    "degree = 7\n",
    "poly_model = make_pipeline(PolynomialFeatures(degree),\n",
    "                           linear_model.LinearRegression())\n",
    "rng = np.random.RandomState(1)\n",
    "x = 10 * rng.rand(50)\n",
    "y = np.sin(x) + 0.1 * rng.randn(50)\n",
    "\n",
    "_= poly_model.fit(x[:, np.newaxis], y)"
   ]
  },
  {
   "cell_type": "code",
   "execution_count": 35,
   "metadata": {
    "slideshow": {
     "slide_type": "subslide"
    }
   },
   "outputs": [
    {
     "data": {
      "image/png": "[encoded data removed]",
      "text/plain": [
       "<Figure size 432x288 with 1 Axes>"
      ]
     },
     "metadata": {
      "needs_background": "light"
     },
     "output_type": "display_data"
    }
   ],
   "source": [
    "# Plot the fit of the high order polynomial\n",
    "yfit = poly_model.predict(xfit[:, np.newaxis])\n",
    "\n",
    "_= plt.scatter(x, y, label=\"data\")\n",
    "_= plt.plot(xfit, yfit, label=\"fit\");\n",
    "_= plt.title(\"Order 7 polynomial fit\")\n",
    "_= plt.legend()"
   ]
  },
  {
   "cell_type": "markdown",
   "metadata": {
    "slideshow": {
     "slide_type": "subslide"
    }
   },
   "source": [
    "Why stop at 7 ?  Why not 100 ?\n",
    "\n",
    "We can fit an arbitrary function with a spline or polynomial of high enough degree\n",
    "- basis function regression\n",
    "\n",
    "But is this \"learning\" or memorization ?\n",
    "- with a high enough degree, we will start to \"memorize\" the training set\n",
    "    - even down to the noise !\n",
    "- won't generalize well\n"
   ]
  },
  {
   "cell_type": "markdown",
   "metadata": {
    "slideshow": {
     "slide_type": "slide"
    }
   },
   "source": [
    "This is known as *over-fitting*\n",
    "- Symptom: When test score is much worse than training score\n",
    "\n",
    "It may be an indication that your model has merely memorized the training data.\n",
    "\n",
    "It may have failed to learn anything that will aid generalization\n",
    "\n",
    "Even worse, your training data is often noisy (e.g., minor measurment errors)\n",
    "\n",
    "A model with too many degrees of freedom will reproduce the noise !"
   ]
  },
  {
   "cell_type": "markdown",
   "metadata": {
    "slideshow": {
     "slide_type": "slide"
    }
   },
   "source": [
    "## Underfitting\n",
    "\n",
    "Just as having too many parameters can hurt, having too few can hurt as well.\n",
    "\n",
    "This is known as *under-fitting*\n",
    "- Symptom: When test score is much *better* than training score\n",
    "\n",
    "It is not so much doing harm as failing to do as good a job as possible in fitting."
   ]
  },
  {
   "cell_type": "markdown",
   "metadata": {
    "slideshow": {
     "slide_type": "subslide"
    }
   },
   "source": [
    "How do we know that we may have underfit ?\n",
    "\n",
    "One way is by having a *prior belief* as to what a good training error should be.\n",
    "\n",
    "If our model's error is much worse than this, we should try to improve the fit.\n",
    "\n",
    "What can form the basis for this belief ?\n",
    "- The results of an alternate model\n",
    "    - Perhaps you have developped a previous model, which gives you an upper bound on a good error\n",
    "    - You know what a competitor's model training error is\n",
    "- Human performance ?"
   ]
  },
  {
   "cell_type": "markdown",
   "metadata": {
    "slideshow": {
     "slide_type": "slide"
    }
   },
   "source": [
    "# Testing for over/under fitting\n",
    "\n",
    "*Overfitting* is a problem because it means that $\\Theta$ has been made overly sensitive to the training examples.\n",
    "\n",
    "It is unlikely to generalize (i.e., predict out of sample) well.\n",
    "\n",
    "*Underfitting* is a problem because it means your model may be able to be improved\n",
    "\n",
    "Let's see how to deterimine whether we have an overfitting or underfitting problem."
   ]
  },
  {
   "cell_type": "markdown",
   "metadata": {
    "slideshow": {
     "slide_type": "slide"
    }
   },
   "source": [
    "## Compare Cost on Training  and Test sets\n",
    "\n",
    "Remember, our optimization objective was to minimize Cost.\n",
    "\n",
    "Let's evaluate, both on the training set (where it is actually used)\n",
    "and on the test set (for comparison)"
   ]
  },
  {
   "cell_type": "code",
   "execution_count": 36,
   "metadata": {
    "slideshow": {
     "slide_type": "slide"
    }
   },
   "outputs": [
    {
     "name": "stdout",
     "output_type": "stream",
     "text": [
      "Coefficients: \n",
      " [4.93224426] [[0.96836946]]\n",
      "\n",
      "\n",
      "R-squared (test): 0.98\n",
      "Root Mean squared error (test): 6.86\n",
      "\n",
      "\n",
      "R-squared (train): 0.98\n",
      "Root Mean squared error (train): 6.56\n"
     ]
    },
    {
     "data": {
      "image/png": "[encoded data removed]",
      "text/plain": [
       "<Figure size 864x288 with 2 Axes>"
      ]
     },
     "metadata": {
      "needs_background": "light"
     },
     "output_type": "display_data"
    }
   ],
   "source": [
    "rh.run_regress(X_lin, y_lin, xlabel=xlabel, ylabel=ylabel)"
   ]
  },
  {
   "cell_type": "markdown",
   "metadata": {
    "slideshow": {
     "slide_type": "subslide"
    }
   },
   "source": [
    "As you can see: the Cost (RMSE, or the related R-squared) is nearly identical between\n",
    "the two sets.\n",
    "\n",
    "This means that our in sample and out of sample predictions have roughly the same quality, so it's\n",
    "unlikely that we overfit.\n",
    "\n",
    "But perhaps we underfit ?  Could we have made the model more accurate ?\n",
    "\n",
    "We sum this up with a topic refered to as the Bias/Variance tradeoff."
   ]
  },
  {
   "cell_type": "markdown",
   "metadata": {
    "slideshow": {
     "slide_type": "slide"
    }
   },
   "source": [
    "## The Bias Variance Tradeoff\n",
    "\n",
    "So far we have warned about the dangers of overfitting (*high variance*)\n",
    "\n",
    "But it's also possible to underfit: to have a training error that is too high. (high *bias*)\n",
    "\n",
    "We can quantify these concepts in terms of the relationship between the Training Error and the Validation Error."
   ]
  },
  {
   "cell_type": "markdown",
   "metadata": {
    "slideshow": {
     "slide_type": "subslide"
    }
   },
   "source": [
    "### High Variance\n",
    "- if Training Error $<<$ Validation Error\n",
    "    - overfit: poor generalization out of sample\n",
    "        - model may be too complex relative to quantity of Training Data\n",
    "            - simplify model (fewer parameters)\n",
    "            - use regularization to reduce number of non-zero parameters\n",
    "            - increase Training Data (e.g., data augmentation)"
   ]
  },
  {
   "cell_type": "markdown",
   "metadata": {
    "slideshow": {
     "slide_type": "subslide"
    }
   },
   "source": [
    "### High Bias\n",
    "- if Training Error $>$ Validation Error or Training Error seems \"high\"\n",
    "    - underfit: sub-optimal performance in sample\n",
    "        - try a more complex (more parameters) model\n",
    "        - train model longer (assuming optimization via search, rather than closed form solution)\n",
    "        - what is \"high\" ? Compare to a baseline model"
   ]
  },
  {
   "cell_type": "markdown",
   "metadata": {
    "slideshow": {
     "slide_type": "slide"
    }
   },
   "source": [
    "## Regularization: reducing overfitting\n",
    "What can we do to combat over-fitting ?\n",
    "\n",
    "Recall that LinearRegression model is optimizing a Loss Function $\\loss$\n",
    "which was initially identical to the performance metric MSE in our example.\n",
    "\n",
    "We will create a *weighted penalty* term \n",
    "\n",
    "$$P = \\alpha Q$$\n",
    "where $Q$ is a function of $\\Theta$ in order to impose a cost on using too many degrees of freedom."
   ]
  },
  {
   "cell_type": "markdown",
   "metadata": {
    "slideshow": {
     "slide_type": "slide"
    }
   },
   "source": [
    "The new loss function becomes\n",
    "$$\n",
    "\\loss' = \\loss + \\alpha Q\n",
    "$$\n",
    "\n",
    "The weight $\\alpha$ balances the original Cost fuction with the penalty.\n",
    "\n",
    "Observe that the new Loss function is **no longer identical** to the performance metric, which\n",
    "remains unchanged.\n",
    "\n",
    "We'll show several modified Regression models and identify the penalty used."
   ]
  },
  {
   "cell_type": "markdown",
   "metadata": {
    "slideshow": {
     "slide_type": "subslide"
    }
   },
   "source": [
    "### [Ridge Regression](external/PythonDataScienceHandbook/notebooks/05.06-Linear-Regression.ipynb#Ridge-regression-%28$L_2$-Regularization%29)\n",
    "\n",
    "Penalty is: sum (over parameters) of squared parameter value\n",
    "\n",
    "$$\n",
    "P = \\alpha\\sum_{n=1}^N \\theta_n^2\n",
    "$$\n",
    "\n",
    "Also known as $L_2$ regularizer.\n",
    "\n",
    "This tends to push parameters $\\theta_n$ towards smaller values."
   ]
  },
  {
   "cell_type": "markdown",
   "metadata": {
    "slideshow": {
     "slide_type": "subslide"
    }
   },
   "source": [
    "### [Lasso Regression][1]\n",
    "[1]: external/PythonDataScienceHandbook/notebooks/05.06-Linear-Regression.ipynb#Lasso-regression-($L_1$-regularization)\n",
    "\n",
    "\n",
    "Penalty is: sum (over parameters) of parameter's absolute value\n",
    "$$\n",
    "P = \\alpha\\sum_{n=1}^N |\\theta_n|\n",
    "$$\n",
    "\n",
    "Also know as the $L_1$ regularizer.\n",
    "\n",
    "This tends to push parameters $\\theta_n$ towards 0"
   ]
  },
  {
   "cell_type": "markdown",
   "metadata": {
    "slideshow": {
     "slide_type": "subslide"
    }
   },
   "source": [
    "<div class=\"alert alert-block alert-success\">\n",
    "    <b>TIP</b> \n",
    "\n",
    "- Know your Cost Function !  \n",
    "    - This is what is driving your model's fitting process.  Does it make sense for your problem ?\n",
    "\n",
    "- Don't try to force a square peg into a round hole.\n",
    "</div>\n"
   ]
  },
  {
   "cell_type": "markdown",
   "metadata": {
    "slideshow": {
     "slide_type": "slide"
    }
   },
   "source": [
    "# Error analysis\n",
    "\n",
    "The Average Cost and the Performance Measure are just summary statistics: \n",
    "- one value that summarizesa distribution.\n",
    "\n",
    "- There is a lot of potentially valuable information lost in the summary.\n",
    "\n",
    "Let's examine the *individual* errors, rather than the summary, when we fit our \"curvy\" data set with a simple line."
   ]
  },
  {
   "cell_type": "code",
   "execution_count": 37,
   "metadata": {
    "slideshow": {
     "slide_type": "subslide"
    }
   },
   "outputs": [
    {
     "name": "stdout",
     "output_type": "stream",
     "text": [
      "Coefficients: \n",
      " [9.86448852] [[0.93673892]]\n",
      "\n",
      "\n",
      "R-squared (test): 0.91\n",
      "Root Mean squared error (test): 13.73\n",
      "\n",
      "\n",
      "R-squared (train): 0.91\n",
      "Root Mean squared error (train): 13.13\n"
     ]
    },
    {
     "data": {
      "image/png": "[encoded data removed]",
      "text/plain": [
       "<Figure size 864x288 with 2 Axes>"
      ]
     },
     "metadata": {
      "needs_background": "light"
     },
     "output_type": "display_data"
    },
    {
     "data": {
      "image/png": "[encoded data removed]",
      "text/plain": [
       "<Figure size 864x288 with 2 Axes>"
      ]
     },
     "metadata": {
      "needs_background": "light"
     },
     "output_type": "display_data"
    }
   ],
   "source": [
    "rh.regress_with_error(X_curve, y_curve, xlabel=xlabel, ylabel=ylabel)"
   ]
  },
  {
   "cell_type": "markdown",
   "metadata": {
    "slideshow": {
     "slide_type": "subslide"
    }
   },
   "source": [
    "As you can see, lurking beneath a pretty good Performance Measure (0.91) is a distinct pattern in the\n",
    "errors:\n",
    "- positive errors at the extremes\n",
    "- negative errors in the center.\n",
    "\n",
    "Might this be a problem ?"
   ]
  },
  {
   "cell_type": "markdown",
   "metadata": {
    "slideshow": {
     "slide_type": "subslide"
    }
   },
   "source": [
    "Definitely !\n",
    "\n",
    "When we learn more about Linear Regression, we will discover that this pattern of errors violates one\n",
    "of the statistical assumptions behind the model (i.e., for fitting on the training set).\n",
    "\n",
    "Moreover, the errors are biased in that they are a function of the feature magnitude.  This may not be\n",
    "a satisfactory prediction for our particular use case.\n"
   ]
  },
  {
   "cell_type": "markdown",
   "metadata": {
    "slideshow": {
     "slide_type": "subslide"
    }
   },
   "source": [
    "Fortunately, we already know how to fix this problem.\n",
    "\n",
    "**Bottom line** \n",
    "- Don't be satisfied with a summary statistic\n",
    "- There is valuable information in the errors: use it to improve your model\n",
    "\n",
    "We will spend more time on this topic in a subsequent lecture."
   ]
  },
  {
   "cell_type": "markdown",
   "metadata": {
    "slideshow": {
     "slide_type": "slide"
    }
   },
   "source": [
    "# Fine-tuning  your model (Geron, last part Chapt 2)\n",
    "- GridSearch\n",
    "\n",
    "- RandomizedSearch\n",
    "\n",
    "- Ensembles\n",
    "\n",
    "- Analyze models and errors\n",
    "    - parameter interpretation"
   ]
  },
  {
   "cell_type": "markdown",
   "metadata": {
    "slideshow": {
     "slide_type": "slide"
    }
   },
   "source": [
    "## Hyper-parameter search\n",
    "\n",
    "In addition to the \"learned\" parameters (e.g., $\\Theta$) there are a number of parameters to the learning\n",
    "process itself.  Among the ones we've seen so far\n",
    "- Strength of regularization penalty\n",
    "- Number of folds for cross validation\n",
    "- Degree of the polynomial features\n",
    "\n",
    "How do we choose values for these *hyper parameters* ?"
   ]
  },
  {
   "cell_type": "markdown",
   "metadata": {
    "slideshow": {
     "slide_type": "subslide"
    }
   },
   "source": [
    "One way is by searching through a space of possible values.\n",
    "\n",
    "`sklearn` makes this easy via the `GridSearchCV` method, which we briefly describe.\n",
    "\n",
    "[`sklearn` GridSearchCV documentation](https://scikit-learn.org/stable/auto_examples/model_selection/plot_grid_search_digits.html)"
   ]
  },
  {
   "cell_type": "raw",
   "metadata": {
    "slideshow": {
     "slide_type": "subslide"
    }
   },
   "source": [
    "# Set the parameters by cross-validation\n",
    "tuned_parameters = [{'kernel': ['rbf'], 'gamma': [1e-3, 1e-4],\n",
    "                     'C': [1, 10, 100, 1000]},\n",
    "                    {'kernel': ['linear'], 'C': [1, 10, 100, 1000]}]\n",
    "\n",
    "scores = ['precision', 'recall']\n",
    "\n",
    "clf = GridSearchCV(SVC(), tuned_parameters, cv=5,\n",
    "                       scoring='%s_macro' % score)\n",
    "\n"
   ]
  },
  {
   "cell_type": "markdown",
   "metadata": {
    "slideshow": {
     "slide_type": "subslide"
    }
   },
   "source": [
    " `GridSearchCV` will create an object (which turns out to be an estimator).\n",
    " \n",
    " In creating this object, we specify \n",
    " - an instance $e$ of an estimator\n",
    " - a dictionary\n",
    "     - whose keys are names of parameters to $e$\n",
    "     - whose values are a list of possible values for the parameters\n",
    "     "
   ]
  },
  {
   "cell_type": "markdown",
   "metadata": {
    "slideshow": {
     "slide_type": "subslide"
    }
   },
   "source": [
    "Since the object is itself an estimator, we can invoke the `fit` method by passing it a training set."
   ]
  },
  {
   "cell_type": "raw",
   "metadata": {
    "slideshow": {
     "slide_type": "subslide"
    }
   },
   "source": [
    "clf.fit(X_train, y_train)"
   ]
  },
  {
   "cell_type": "markdown",
   "metadata": {
    "slideshow": {
     "slide_type": "subslide"
    }
   },
   "source": [
    "Fitting the `GridSearchCV` estimator does the following\n",
    "- it creates every possible combination of parameter values in the dictionary\n",
    "- for each combination, it performs Cross Validated fitting of the estimator $e$\n",
    "\n",
    "So it fits estimator $e$ many times, one for each possible parameter combination across the \n",
    "multi-dimensional space of hyper-parameters.\n",
    "\n",
    "Hence the name: Grid Search.\n",
    "\n",
    "One can then have Grid Search report summaries as well as the best combination of parameters.\n",
    "    "
   ]
  },
  {
   "cell_type": "markdown",
   "metadata": {
    "slideshow": {
     "slide_type": "slide"
    }
   },
   "source": [
    "## Randomized search in `sklearn`\n",
    "\n",
    "[RandomizedSearchCV documentation](https://scikit-learn.org/stable/modules/grid_search.html#randomized-parameter-optimization)\n",
    "\n",
    "`GridSearchCV` searches the entire multi-dimensional space of hyper-parameters, which can be very large and\n",
    "therefore time consuming.\n",
    "\n",
    "`sklearn` implements a randomized version of the exploration of the multi-dimensional space.\n",
    "\n",
    "Instead of searching the grid exhaustively, it randomly samples combinations of hyper-parameters to try.\n",
    "\n",
    "The user specifies how many samples are taken."
   ]
  },
  {
   "cell_type": "markdown",
   "metadata": {
    "slideshow": {
     "slide_type": "slide"
    }
   },
   "source": [
    "# Alternative to Randomized Search\n",
    "\n",
    "The assumption underlying Randomized Search is that all points in the multi-dimensional space of \n",
    "hyper-parameters are equally likely candidates for being the best.\n",
    "\n",
    "Like any other optimization problem, experience tells us this is not likely to be the case:\n",
    "- Some parameters have less impact on the Performance Metric than others\n",
    "- The values for a particular hyper-parameter that lead to high performance tend to be clustered rather than evenly distributed\n",
    "\n",
    "Is there a way to improve Randomized Search ?"
   ]
  },
  {
   "cell_type": "markdown",
   "metadata": {
    "slideshow": {
     "slide_type": "subslide"
    }
   },
   "source": [
    "One idea is to partition the space of possible values of a hyper-parameter unevenly.\n",
    "\n",
    "One can then try an equal number of values of the hyper-parameter in each partition\n",
    "- the increment between values of a large partition are larger than for a small partition\n"
   ]
  },
  {
   "cell_type": "markdown",
   "metadata": {
    "slideshow": {
     "slide_type": "subslide"
    }
   },
   "source": [
    "For example suppose the range for hyper-parameter $p$ is $[0, 1000]$\n",
    "- we create partitions using a logarithmic scale:\n",
    "    - $[0, .001]$\n",
    "    - $[.001, .01]$\n",
    "    - $\\vdots$\n",
    "    - $[ 100, 1000 ]$\n",
    "\n",
    "This would be consistent with our belief that the best values for $p$ are extremely small.\n",
    "\n",
    "So we explore small values in smaller increments than the values between $100$ and $1000$."
   ]
  },
  {
   "cell_type": "markdown",
   "metadata": {
    "slideshow": {
     "slide_type": "slide"
    }
   },
   "source": [
    "# What does this have to do with Finance ?\n",
    "\n",
    "- Stock market \"beta\": how much does a stock move, for a 1% move in the index ?\n",
    "    - Typically calcuated using LinearRegression, with some window\n",
    "    - But who says this is the \"best\" (gives best prediction) window ?\n",
    "        - we can address this in Cross-Validation\n",
    "- Multi-factor models\n",
    "    - LinearRegression with multiple regressors"
   ]
  },
  {
   "cell_type": "markdown",
   "metadata": {
    "slideshow": {
     "slide_type": "slide"
    }
   },
   "source": [
    "# Recap\n",
    "\n",
    "- We learned our first model for a *regression* task\n",
    "    - previously learned the KNN model for a *classification* task\n",
    "- Importance of feature engineering\n",
    "    - if all you have is a linear model: transform your data to make it linear\n",
    "- Cross validation: out of sample analysis without cheating; confidence intervals\n",
    "- Importance of Error Analysis\n",
    "- The `sklearn` API"
   ]
  },
  {
   "cell_type": "markdown",
   "metadata": {
    "slideshow": {
     "slide_type": "slide"
    }
   },
   "source": [
    "## The sklearn API\n",
    "\n",
    "fit, transform\n",
    "\n",
    "fit_transform\n",
    "\n",
    "predict\n",
    "\n",
    "[Scikit-learn cheat sheet](https://scikit-learn.org/stable/tutorial/machine_learning_map/index.html)"
   ]
  },
  {
   "cell_type": "code",
   "execution_count": 38,
   "metadata": {
    "slideshow": {
     "slide_type": "slide"
    }
   },
   "outputs": [
    {
     "name": "stdout",
     "output_type": "stream",
     "text": [
      "Done !\n"
     ]
    }
   ],
   "source": [
    "print(\"Done !\")"
   ]
  }
 ],
 "metadata": {
  "celltoolbar": "Slideshow",
  "kernelspec": {
   "display_name": "Python 3",
   "language": "python",
   "name": "python3"
  },
  "language_info": {
   "codemirror_mode": {
    "name": "ipython",
    "version": 3
   },
   "file_extension": ".py",
   "mimetype": "text/x-python",
   "name": "python",
   "nbconvert_exporter": "python",
   "pygments_lexer": "ipython3",
   "version": "3.7.3"
  },
  "toc": {
   "base_numbering": 1,
   "nav_menu": {},
   "number_sections": true,
   "sideBar": true,
   "skip_h1_title": false,
   "title_cell": "Table of Contents",
   "title_sidebar": "Contents",
   "toc_cell": false,
   "toc_position": {
    "height": "calc(100% - 180px)",
    "left": "10px",
    "top": "150px",
    "width": "368px"
   },
   "toc_section_display": true,
   "toc_window_display": true
  }
 },
 "nbformat": 4,
 "nbformat_minor": 2
}
