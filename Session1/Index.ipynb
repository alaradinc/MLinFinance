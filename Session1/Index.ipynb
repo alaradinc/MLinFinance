{
 "cells": [
  {
   "cell_type": "markdown",
   "metadata": {
    "slideshow": {
     "slide_type": "slide"
    }
   },
   "source": [
    "# MACHINE LEARNING IN FINANCE"
   ]
  },
  {
   "cell_type": "markdown",
   "metadata": {
    "slideshow": {
     "slide_type": "slide"
    }
   },
   "source": [
    "### Week 1\n",
    "- [Course Overview](Course_overview.ipynb)\n",
    "- [Getting Started](Getting_Started.ipynb)\n",
    "- [Intro to Classical ML](Intro_Classical_ML.ipynb)\n",
    "\n",
    "### Week 2\n",
    "- Recipe for Machine Learning\n",
    "\n",
    "### Week 3\n",
    "- Classification and Categorical Variables\n",
    "\n",
    "### Week 4\n",
    "- Mathematical Foundations of Machine Learning\n",
    "\n",
    "### Week 5\n",
    "- Decision Trees\n",
    "\n",
    "### Week 6\n",
    "- Unsupervised Learning\n",
    "\n"
   ]
  },
  {
   "cell_type": "markdown",
   "metadata": {
    "slideshow": {
     "slide_type": "slide"
    }
   },
   "source": [
    "### Week 7\n",
    "- Bayesian Learning\n",
    "\n",
    "### Week 8\n",
    "- Tensor Flow\n",
    "\n",
    "### Week 9\n",
    "- Support Vector Machines\n",
    "\n",
    "### Week 10\n",
    "- Artificial Neural Networks\n",
    "\n",
    "### Week 11\n",
    "- Training Deep Neural Networks\n",
    "\n",
    "### Week 12\n",
    "- Autoencoders\n",
    "\n",
    "### Week 13\n",
    "- Recurrent Neural Networks\n",
    "\n",
    "### Week 14\n",
    "- Reinforcement Learning\n",
    "\n"
   ]
  },
  {
   "cell_type": "code",
   "execution_count": null,
   "metadata": {},
   "outputs": [],
   "source": []
  }
 ],
 "metadata": {
  "celltoolbar": "Slideshow",
  "kernelspec": {
   "display_name": "Python 3",
   "language": "python",
   "name": "python3"
  },
  "language_info": {
   "codemirror_mode": {
    "name": "ipython",
    "version": 3
   },
   "file_extension": ".py",
   "mimetype": "text/x-python",
   "name": "python",
   "nbconvert_exporter": "python",
   "pygments_lexer": "ipython3",
   "version": "3.7.4"
  },
  "toc": {
   "base_numbering": 1,
   "nav_menu": {},
   "number_sections": true,
   "sideBar": true,
   "skip_h1_title": false,
   "title_cell": "Table of Contents",
   "title_sidebar": "Contents",
   "toc_cell": false,
   "toc_position": {},
   "toc_section_display": true,
   "toc_window_display": false
  }
 },
 "nbformat": 4,
 "nbformat_minor": 2
}
