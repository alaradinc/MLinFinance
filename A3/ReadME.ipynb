{
 "cells": [
  {
   "attachments": {},
   "cell_type": "markdown",
   "metadata": {},
   "source": [
    "#### Notes on something similar\n",
    "https://github.com/QuantConnect/Research/blob/master/Analysis/02%20Kalman%20Filter%20Based%20Pairs%20Trading.ipynb\n",
    "\n",
    "# Assignment\n",
    "This assignment is to use Kalman filter to implement the pair trading strategy of S&P 500 ETF and the Dow Jones Industrial ETF.\n",
    "\n",
    "Please read the document (Kalman filtering case study.pdf) in Resources/Session 5 folder which discusses the Pair Trading strategy and answer the following questions.\n",
    "\n",
    "(a). Derive the beta update equation (Kalman filter) for the pair trading strategy of the two ETFs ( which is the same format with the last equation on page 72).\n",
    "\n",
    "(b). Code up the pair trading strategy and compare rolling regression vs Kalman filtering."
   ]
  }
 ],
 "metadata": {
  "language_info": {
   "name": "python"
  },
  "orig_nbformat": 4
 },
 "nbformat": 4,
 "nbformat_minor": 2
}
